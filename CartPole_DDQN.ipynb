{
  "nbformat": 4,
  "nbformat_minor": 0,
  "metadata": {
    "colab": {
      "name": "CartPole DDQN.ipynb",
      "provenance": [],
      "collapsed_sections": []
    },
    "kernelspec": {
      "name": "python3",
      "display_name": "Python 3"
    },
    "accelerator": "GPU"
  },
  "cells": [
    {
      "cell_type": "code",
      "metadata": {
        "id": "8-AxnvAVyzQQ",
        "colab_type": "code",
        "colab": {}
      },
      "source": [
        "#remove \" > /dev/null 2>&1\" to see what is going on under the hood\n",
        "!pip install gym pyvirtualdisplay > /dev/null 2>&1\n",
        "!apt-get install -y xvfb python-opengl ffmpeg > /dev/null 2>&1"
      ],
      "execution_count": 0,
      "outputs": []
    },
    {
      "cell_type": "code",
      "metadata": {
        "id": "TCelFzWY9MBI",
        "colab_type": "code",
        "outputId": "d8e77d54-d08c-470a-d530-caeb8214b4fa",
        "colab": {
          "base_uri": "https://localhost:8080/",
          "height": 273
        }
      },
      "source": [
        "!apt-get update > /dev/null 2>&1\n",
        "!apt-get install cmake > /dev/null 2>&1\n",
        "!pip install --upgrade setuptools 2>&1\n",
        "!pip install ez_setup > /dev/null 2>&1\n",
        "!pip install gym[atari] > /dev/null 2>&1\n",
        "!pip install gym[box2d] > /dev/null 2>&1"
      ],
      "execution_count": 2,
      "outputs": [
        {
          "output_type": "stream",
          "text": [
            "Collecting setuptools\n",
            "\u001b[?25l  Downloading https://files.pythonhosted.org/packages/3d/72/1c1498c1e908e0562b1e1cd30012580baa7d33b5b0ffdbeb5fde2462cc71/setuptools-45.2.0-py3-none-any.whl (584kB)\n",
            "\r\u001b[K     |▋                               | 10kB 23.9MB/s eta 0:00:01\r\u001b[K     |█▏                              | 20kB 31.3MB/s eta 0:00:01\r\u001b[K     |█▊                              | 30kB 24.6MB/s eta 0:00:01\r\u001b[K     |██▎                             | 40kB 19.7MB/s eta 0:00:01\r\u001b[K     |██▉                             | 51kB 15.4MB/s eta 0:00:01\r\u001b[K     |███▍                            | 61kB 15.2MB/s eta 0:00:01\r\u001b[K     |████                            | 71kB 13.8MB/s eta 0:00:01\r\u001b[K     |████▌                           | 81kB 15.0MB/s eta 0:00:01\r\u001b[K     |█████                           | 92kB 14.9MB/s eta 0:00:01\r\u001b[K     |█████▋                          | 102kB 14.6MB/s eta 0:00:01\r\u001b[K     |██████▏                         | 112kB 14.6MB/s eta 0:00:01\r\u001b[K     |██████▊                         | 122kB 14.6MB/s eta 0:00:01\r\u001b[K     |███████▎                        | 133kB 14.6MB/s eta 0:00:01\r\u001b[K     |███████▉                        | 143kB 14.6MB/s eta 0:00:01\r\u001b[K     |████████▍                       | 153kB 14.6MB/s eta 0:00:01\r\u001b[K     |█████████                       | 163kB 14.6MB/s eta 0:00:01\r\u001b[K     |█████████▌                      | 174kB 14.6MB/s eta 0:00:01\r\u001b[K     |██████████                      | 184kB 14.6MB/s eta 0:00:01\r\u001b[K     |██████████▋                     | 194kB 14.6MB/s eta 0:00:01\r\u001b[K     |███████████▏                    | 204kB 14.6MB/s eta 0:00:01\r\u001b[K     |███████████▉                    | 215kB 14.6MB/s eta 0:00:01\r\u001b[K     |████████████▍                   | 225kB 14.6MB/s eta 0:00:01\r\u001b[K     |█████████████                   | 235kB 14.6MB/s eta 0:00:01\r\u001b[K     |█████████████▌                  | 245kB 14.6MB/s eta 0:00:01\r\u001b[K     |██████████████                  | 256kB 14.6MB/s eta 0:00:01\r\u001b[K     |██████████████▋                 | 266kB 14.6MB/s eta 0:00:01\r\u001b[K     |███████████████▏                | 276kB 14.6MB/s eta 0:00:01\r\u001b[K     |███████████████▊                | 286kB 14.6MB/s eta 0:00:01\r\u001b[K     |████████████████▎               | 296kB 14.6MB/s eta 0:00:01\r\u001b[K     |████████████████▉               | 307kB 14.6MB/s eta 0:00:01\r\u001b[K     |█████████████████▍              | 317kB 14.6MB/s eta 0:00:01\r\u001b[K     |██████████████████              | 327kB 14.6MB/s eta 0:00:01\r\u001b[K     |██████████████████▌             | 337kB 14.6MB/s eta 0:00:01\r\u001b[K     |███████████████████             | 348kB 14.6MB/s eta 0:00:01\r\u001b[K     |███████████████████▋            | 358kB 14.6MB/s eta 0:00:01\r\u001b[K     |████████████████████▏           | 368kB 14.6MB/s eta 0:00:01\r\u001b[K     |████████████████████▊           | 378kB 14.6MB/s eta 0:00:01\r\u001b[K     |█████████████████████▎          | 389kB 14.6MB/s eta 0:00:01\r\u001b[K     |█████████████████████▉          | 399kB 14.6MB/s eta 0:00:01\r\u001b[K     |██████████████████████▍         | 409kB 14.6MB/s eta 0:00:01\r\u001b[K     |███████████████████████         | 419kB 14.6MB/s eta 0:00:01\r\u001b[K     |███████████████████████▋        | 430kB 14.6MB/s eta 0:00:01\r\u001b[K     |████████████████████████▏       | 440kB 14.6MB/s eta 0:00:01\r\u001b[K     |████████████████████████▊       | 450kB 14.6MB/s eta 0:00:01\r\u001b[K     |█████████████████████████▎      | 460kB 14.6MB/s eta 0:00:01\r\u001b[K     |█████████████████████████▉      | 471kB 14.6MB/s eta 0:00:01\r\u001b[K     |██████████████████████████▍     | 481kB 14.6MB/s eta 0:00:01\r\u001b[K     |███████████████████████████     | 491kB 14.6MB/s eta 0:00:01\r\u001b[K     |███████████████████████████▌    | 501kB 14.6MB/s eta 0:00:01\r\u001b[K     |████████████████████████████    | 512kB 14.6MB/s eta 0:00:01\r\u001b[K     |████████████████████████████▋   | 522kB 14.6MB/s eta 0:00:01\r\u001b[K     |█████████████████████████████▏  | 532kB 14.6MB/s eta 0:00:01\r\u001b[K     |█████████████████████████████▊  | 542kB 14.6MB/s eta 0:00:01\r\u001b[K     |██████████████████████████████▎ | 552kB 14.6MB/s eta 0:00:01\r\u001b[K     |██████████████████████████████▉ | 563kB 14.6MB/s eta 0:00:01\r\u001b[K     |███████████████████████████████▍| 573kB 14.6MB/s eta 0:00:01\r\u001b[K     |████████████████████████████████| 583kB 14.6MB/s eta 0:00:01\r\u001b[K     |████████████████████████████████| 593kB 14.6MB/s \n",
            "\u001b[31mERROR: datascience 0.10.6 has requirement folium==0.2.1, but you'll have folium 0.8.3 which is incompatible.\u001b[0m\n",
            "\u001b[?25hInstalling collected packages: setuptools\n",
            "  Found existing installation: setuptools 45.1.0\n",
            "    Uninstalling setuptools-45.1.0:\n",
            "      Successfully uninstalled setuptools-45.1.0\n",
            "Successfully installed setuptools-45.2.0\n"
          ],
          "name": "stdout"
        },
        {
          "output_type": "display_data",
          "data": {
            "application/vnd.colab-display-data+json": {
              "pip_warning": {
                "packages": [
                  "pkg_resources"
                ]
              }
            }
          },
          "metadata": {
            "tags": []
          }
        }
      ]
    },
    {
      "cell_type": "code",
      "metadata": {
        "id": "pdb2JwZy4jGj",
        "colab_type": "code",
        "outputId": "03ea3587-e30d-4e95-920b-a854a5c2a5a8",
        "colab": {
          "base_uri": "https://localhost:8080/",
          "height": 34
        }
      },
      "source": [
        "import gym\n",
        "from gym import logger as gymlogger\n",
        "from gym.wrappers import Monitor\n",
        "gymlogger.set_level(40) #error only\n",
        "%tensorflow_version 2.x\n",
        "import tensorflow as tf\n",
        "import numpy as np\n",
        "import random\n",
        "import time\n",
        "from datetime import timedelta\n",
        "import matplotlib\n",
        "import matplotlib.pyplot as plt\n",
        "%matplotlib inline\n",
        "import glob\n",
        "import io\n",
        "import base64\n",
        "from IPython.display import HTML\n",
        "\n",
        "from collections import deque\n",
        "\n",
        "from IPython import display as ipythondisplay\n",
        "np.random.seed(0)\n",
        "random.seed(0)"
      ],
      "execution_count": 1,
      "outputs": [
        {
          "output_type": "stream",
          "text": [
            "TensorFlow 2.x selected.\n"
          ],
          "name": "stdout"
        }
      ]
    },
    {
      "cell_type": "code",
      "metadata": {
        "id": "nQEtc28G4niA",
        "colab_type": "code",
        "outputId": "7f54175e-59fb-4e2b-e6cb-fe5895457cc2",
        "colab": {
          "base_uri": "https://localhost:8080/",
          "height": 70
        }
      },
      "source": [
        "from pyvirtualdisplay import Display\n",
        "display = Display(visible=0, size=(1400, 900))\n",
        "display.start()"
      ],
      "execution_count": 2,
      "outputs": [
        {
          "output_type": "stream",
          "text": [
            "xdpyinfo was not found, X start can not be checked! Please install xdpyinfo!\n"
          ],
          "name": "stderr"
        },
        {
          "output_type": "execute_result",
          "data": {
            "text/plain": [
              "<Display cmd_param=['Xvfb', '-br', '-nolisten', 'tcp', '-screen', '0', '1400x900x24', ':1001'] cmd=['Xvfb', '-br', '-nolisten', 'tcp', '-screen', '0', '1400x900x24', ':1001'] oserror=None return_code=None stdout=\"None\" stderr=\"None\" timeout_happened=False>"
            ]
          },
          "metadata": {
            "tags": []
          },
          "execution_count": 2
        }
      ]
    },
    {
      "cell_type": "code",
      "metadata": {
        "id": "G9UWeToN4r7D",
        "colab_type": "code",
        "colab": {}
      },
      "source": [
        "\"\"\"\n",
        "Utility functions to enable video recording of gym environment and displaying it\n",
        "To enable video, just do \"env = wrap_env(env)\"\"\n",
        "\"\"\"\n",
        "\n",
        "def show_video():\n",
        "  mp4list = glob.glob('video/*.mp4')\n",
        "  if len(mp4list) > 0:\n",
        "    mp4 = mp4list[0]\n",
        "    video = io.open(mp4, 'r+b').read()\n",
        "    encoded = base64.b64encode(video)\n",
        "    ipythondisplay.display(HTML(data='''<video alt=\"test\" autoplay \n",
        "                loop controls style=\"height: 400px;\">\n",
        "                <source src=\"data:video/mp4;base64,{0}\" type=\"video/mp4\" />\n",
        "             </video>'''.format(encoded.decode('ascii'))))\n",
        "  else: \n",
        "    print(\"Could not find video\")\n",
        "    \n",
        "\n",
        "def wrap_env(env):\n",
        "  env = Monitor(env, './video', force=True)\n",
        "  return env"
      ],
      "execution_count": 0,
      "outputs": []
    },
    {
      "cell_type": "markdown",
      "metadata": {
        "id": "W3BGbWOu179M",
        "colab_type": "text"
      },
      "source": [
        "# CartPole v0"
      ]
    },
    {
      "cell_type": "markdown",
      "metadata": {
        "id": "m92qLjtaZgiT",
        "colab_type": "text"
      },
      "source": [
        "### Policy Class\n",
        "\n",
        "The policy that decides which action to take given an state. In this case, it's the $\\epsilon$-greedy Strategy."
      ]
    },
    {
      "cell_type": "code",
      "metadata": {
        "id": "7nml8qxuYjF4",
        "colab_type": "code",
        "colab": {}
      },
      "source": [
        "class Policy:\n",
        "  def __init__(self, max_eps, min_eps, eps_decay_rate):\n",
        "    self.max_eps = max_eps\n",
        "    self.min_eps = min_eps\n",
        "    self.eps_decay_rate = eps_decay_rate\n",
        "\n",
        "  def get_eps(self, current_step):\n",
        "    return self.min_eps + (self.max_eps - self.min_eps) * np.exp(-1. * current_step * self.eps_decay_rate)"
      ],
      "execution_count": 0,
      "outputs": []
    },
    {
      "cell_type": "markdown",
      "metadata": {
        "id": "cU1plUxqanHV",
        "colab_type": "text"
      },
      "source": [
        "### Replay Memory\n",
        "\n",
        "The class to hold the buffer memory for training."
      ]
    },
    {
      "cell_type": "code",
      "metadata": {
        "id": "Cc_PUVTtbbsO",
        "colab_type": "code",
        "colab": {}
      },
      "source": [
        "class ReplayMemory:\n",
        "  def __init__(self, max_mem, batch_size):\n",
        "    self.max_mem = max_mem\n",
        "    self.batch_size = batch_size\n",
        "    self.mem = deque(maxlen=self.max_mem)\n",
        "\n",
        "  def push(self, state, action, reward, next_state, done):\n",
        "    self.mem.append((state, action, reward, next_state, (not done)))\n",
        "  \n",
        "  def can_sample(self):\n",
        "    return len(self.mem) >= self.batch_size \n",
        "\n",
        "  def sample(self, num_actions):\n",
        "    minibatch = np.array(random.sample(self.mem, self.batch_size))\n",
        "    state = np.array(list(minibatch[:, 0]))\n",
        "    action = np.array(list(minibatch[:, 1]))\n",
        "    action = tf.keras.utils.to_categorical(action, num_classes=num_actions)\n",
        "    reward = np.array(list(minibatch[:, 2])).reshape(-1, 1)\n",
        "    next_state = np.array(list(minibatch[:, 3]))\n",
        "    done = np.array(list(minibatch[:, 4])).astype(float).reshape(-1, 1)\n",
        "\n",
        "    reward = reward * action\n",
        "    done = done * action\n",
        "\n",
        "    return state, reward, next_state, done"
      ],
      "execution_count": 0,
      "outputs": []
    },
    {
      "cell_type": "markdown",
      "metadata": {
        "id": "Uj5Qr8OHa3-Y",
        "colab_type": "text"
      },
      "source": [
        "### Agent\n",
        "The agent responsible for the interaction with the environment. This class also contains the 2 models (neural networks i.e. q net and target)."
      ]
    },
    {
      "cell_type": "code",
      "metadata": {
        "id": "ujU9UQmrOVEM",
        "colab_type": "code",
        "colab": {}
      },
      "source": [
        "class Agent:\n",
        "  def __init__(self, input_shape, output_shape):\n",
        "    self.q_model = self._build_model('Q Model', input_shape, output_shape)\n",
        "    self.target_q_model = self._build_model('Target Q Model', input_shape, output_shape)\n",
        "    self.current_step = 0\n",
        "\n",
        "  def _build_model(self, name, input_shape, output_share):\n",
        "    return tf.keras.Sequential([\n",
        "      tf.keras.layers.Dense(24, input_shape=input_shape, activation=tf.nn.relu),\n",
        "      tf.keras.layers.Dense(32, activation=tf.nn.relu),\n",
        "      tf.keras.layers.Dense(output_share)                               \n",
        "    ])\n",
        "\n",
        "  def select_action(self, env, policy, state):\n",
        "    self.current_step += 1\n",
        "\n",
        "    if policy.get_eps(self.current_step) > random.random():\n",
        "      return env.action_space.sample()\n",
        "    else:\n",
        "      return np.argmax(self.q_model(state.reshape(1, -1)))\n",
        "    # action_vals = self.q_model(state.reshape(1, -1))[0]\n",
        "    # action_vals -= (np.max(action_vals) / self.tau)\n",
        "    # action_probs = tf.nn.softmax(action_vals).numpy().astype(np.float32)\n",
        "    # return np.random.choice(env.action_space.n, p=action_probs)\n",
        "\n",
        "  def save(self, fname):\n",
        "    self.q_model.save(f'{fname}-q-model.h5')\n",
        "    self.q_model.save(f'{fname}-q-model-weights.h5')"
      ],
      "execution_count": 0,
      "outputs": []
    },
    {
      "cell_type": "code",
      "metadata": {
        "id": "IeUl5l_G2pVe",
        "colab_type": "code",
        "colab": {}
      },
      "source": [
        "def count():\n",
        "  num = 0\n",
        "  while True:\n",
        "    num += 1\n",
        "    yield num"
      ],
      "execution_count": 0,
      "outputs": []
    },
    {
      "cell_type": "markdown",
      "metadata": {
        "id": "rOS2ULMKbYAW",
        "colab_type": "text"
      },
      "source": [
        "### Hyperparameters\n",
        "Set the hyperparameters for the training."
      ]
    },
    {
      "cell_type": "code",
      "metadata": {
        "id": "UOaF8hQ8bEV8",
        "colab_type": "code",
        "colab": {}
      },
      "source": [
        "ENV_NAME = 'CartPole-v0'\n",
        "\n",
        "REPLAY_MEM_SIZE = 100000\n",
        "BATCH_SIZE = 512\n",
        "\n",
        "NUM_EPISODES = 500\n",
        "TARGET_UPDATE = 10\n",
        "\n",
        "LEARNING_RATE = 1e-3\n",
        "GAMMA = 0.999\n",
        "\n",
        "MAX_EPS = 1\n",
        "MIN_EPS = 1e-2\n",
        "EPS_DECAY_RATE = 1e-3"
      ],
      "execution_count": 0,
      "outputs": []
    },
    {
      "cell_type": "code",
      "metadata": {
        "id": "OWrnglJRczTP",
        "colab_type": "code",
        "colab": {}
      },
      "source": [
        "env = gym.make(ENV_NAME)\n",
        "env.seed(0)\n",
        "\n",
        "policy = Policy(MAX_EPS, MIN_EPS, EPS_DECAY_RATE)\n",
        "replay_mem = ReplayMemory(REPLAY_MEM_SIZE, BATCH_SIZE)\n",
        "agent = Agent(env.observation_space.shape, env.action_space.n)\n",
        "\n",
        "tf.keras.backend.set_floatx('float64')"
      ],
      "execution_count": 0,
      "outputs": []
    },
    {
      "cell_type": "markdown",
      "metadata": {
        "id": "kcr9Ddm7cAZ2",
        "colab_type": "text"
      },
      "source": [
        "### Training\n",
        "The main training code."
      ]
    },
    {
      "cell_type": "code",
      "metadata": {
        "id": "bPIZ5cJIMs3q",
        "colab_type": "code",
        "colab": {}
      },
      "source": [
        "optimizer = tf.keras.optimizers.Adam(lr=LEARNING_RATE)\n",
        "loss = tf.keras.losses.MeanSquaredError()\n",
        "agent.q_model.compile(loss=loss, optimizer=optimizer)\n",
        "# running_mean = None\n",
        "# running_mean_steps = None\n",
        "# timesteps = []\n",
        "# mean_steps = []\n",
        "# means = []"
      ],
      "execution_count": 0,
      "outputs": []
    },
    {
      "cell_type": "code",
      "metadata": {
        "id": "Dx1zpLcFzx6K",
        "colab_type": "code",
        "outputId": "59dff6b1-dc5c-4196-83e9-03c28b8400bf",
        "colab": {
          "base_uri": "https://localhost:8080/",
          "height": 50
        }
      },
      "source": [
        "eta = 0\n",
        "start = time.perf_counter()\n",
        "\n",
        "for episode in range(1, NUM_EPISODES + 1):\n",
        "  state = env.reset()\n",
        "  done = False\n",
        "  ep_reward = 0\n",
        "\n",
        "  for timestep in count():\n",
        "    action = agent.select_action(env, policy, state)\n",
        "    next_state, reward, done, info = env.step(action)\n",
        "    \n",
        "    if done:\n",
        "      if timestep >= 195: reward = 1000\n",
        "      elif timestep > 170: reward = 50\n",
        "      else: reward = -500\n",
        "    else: reward = 20\n",
        "\n",
        "    replay_mem.push(state, action, reward, next_state, done)\n",
        "    state = next_state\n",
        "    ep_reward += reward\n",
        "\n",
        "    if replay_mem.can_sample():\n",
        "      _state, _reward, _next_state, _done = replay_mem.sample(env.action_space.n)\n",
        "      _q_next = agent.target_q_model(_next_state)\n",
        "      target = _reward  + GAMMA * _done * np.max(_q_next, axis=1).reshape(-1, 1)\n",
        "      agent.q_model.fit(_state, target, epochs=1, verbose=0)\n",
        "    \n",
        "    if done:\n",
        "      timesteps.append(timestep)\n",
        "      break\n",
        "\n",
        "  running_mean_steps = timesteps[-1] if running_mean_steps is None else running_mean_steps * 0.99 + timesteps[-1] * 0.01\n",
        "  mean_steps.append(running_mean_steps)\n",
        "\n",
        "  running_mean = ep_reward if running_mean is None else running_mean * 0.99 + ep_reward * 0.01\n",
        "  means.append(running_mean)\n",
        "\n",
        "  if episode % TARGET_UPDATE == 0:\n",
        "    agent.target_q_model.set_weights(agent.q_model.get_weights())\n",
        "\n",
        "  time_elapsed = time.perf_counter() - start\n",
        "  eta = int((NUM_EPISODES - episode) * time_elapsed / episode)\n",
        "\n",
        "  print(f'\\rETA: {timedelta(seconds=eta)}  Episode: {episode:3}/{NUM_EPISODES}  Reward: {ep_reward:.2f}\\tTime Step: {timesteps[-1]}  Mean: {means[-1]:.2f}  Mean Steps: {mean_steps[-1]:.2f}', end='')\n",
        "print(f'\\nTraining Time: {timedelta(seconds=int(time.perf_counter() - start))}')"
      ],
      "execution_count": 0,
      "outputs": [
        {
          "output_type": "stream",
          "text": [
            "ETA: 0:00:00  Episode: 500/500  Reward: 2060.00\tTime Step: 129  Mean: 2517.08  Mean Steps: 143.65\n",
            "Training Time: 1:03:12\n"
          ],
          "name": "stdout"
        }
      ]
    },
    {
      "cell_type": "markdown",
      "metadata": {
        "id": "2S1-oQLLcMb3",
        "colab_type": "text"
      },
      "source": [
        "### Visualize \n",
        "Plot the Number of Steps before Termination and Running Mean of each episode during the training."
      ]
    },
    {
      "cell_type": "code",
      "metadata": {
        "id": "zTNEmubDg1kF",
        "colab_type": "code",
        "outputId": "c86e0332-251d-4633-cbd5-a93914dd11f8",
        "colab": {
          "base_uri": "https://localhost:8080/",
          "height": 295
        }
      },
      "source": [
        "plt.plot(list(range(1, len(timesteps) + 1)), timesteps, label='Time Steps')\n",
        "plt.plot(list(range(1, len(mean_steps) + 1)), mean_steps, label='Mean Time Steps')\n",
        "plt.title('Time Steps beofre Termination')\n",
        "plt.xlabel('Number of episodes')\n",
        "plt.ylabel('Number of steps taken before terminaition')\n",
        "plt.legend()\n",
        "plt.show()"
      ],
      "execution_count": 0,
      "outputs": [
        {
          "output_type": "display_data",
          "data": {
            "image/png": "[encoded data removed]",
            "text/plain": [
              "<Figure size 432x288 with 1 Axes>"
            ]
          },
          "metadata": {
            "tags": []
          }
        }
      ]
    },
    {
      "cell_type": "code",
      "metadata": {
        "id": "a8GlDPQgls6r",
        "colab_type": "code",
        "outputId": "636cb25b-fab3-451b-b549-ee784c094b9b",
        "colab": {
          "base_uri": "https://localhost:8080/",
          "height": 295
        }
      },
      "source": [
        "plt.plot(list(range(1, len(means) + 1)), means)\n",
        "plt.title('Running Means over 100 episodes over the Training Period')\n",
        "plt.xlabel('Number of episodes')\n",
        "plt.ylabel('Running Means over 100 Episodes')\n",
        "plt.show()"
      ],
      "execution_count": 0,
      "outputs": [
        {
          "output_type": "display_data",
          "data": {
            "image/png": "[encoded data removed]",
            "text/plain": [
              "<Figure size 432x288 with 1 Axes>"
            ]
          },
          "metadata": {
            "tags": []
          }
        }
      ]
    },
    {
      "cell_type": "markdown",
      "metadata": {
        "id": "J2EuLZMBcht6",
        "colab_type": "text"
      },
      "source": [
        "### Testing\n",
        "Testing the performance(Average Reward over 100 Steps)."
      ]
    },
    {
      "cell_type": "code",
      "metadata": {
        "id": "kn3fuyPfGL9e",
        "colab_type": "code",
        "colab": {}
      },
      "source": [
        "agent.save('cartpole-v0')"
      ],
      "execution_count": 0,
      "outputs": []
    },
    {
      "cell_type": "code",
      "metadata": {
        "id": "VJL8ISsPoGVs",
        "colab_type": "code",
        "outputId": "0189fa2b-41cf-4774-8345-bdbb15bd609d",
        "colab": {
          "base_uri": "https://localhost:8080/",
          "height": 34
        }
      },
      "source": [
        "agent.current_step"
      ],
      "execution_count": 0,
      "outputs": [
        {
          "output_type": "execute_result",
          "data": {
            "text/plain": [
              "131025"
            ]
          },
          "metadata": {
            "tags": []
          },
          "execution_count": 51
        }
      ]
    },
    {
      "cell_type": "code",
      "metadata": {
        "id": "nIlSgDfICLHj",
        "colab_type": "code",
        "colab": {}
      },
      "source": [
        "env = wrap_env(gym.make('CartPole-v0'))\n",
        "agent = Agent(env.observation_space.shape, env.action_space.n)"
      ],
      "execution_count": 0,
      "outputs": []
    },
    {
      "cell_type": "code",
      "metadata": {
        "id": "cWq_Wv2zDwjR",
        "colab_type": "code",
        "colab": {
          "base_uri": "https://localhost:8080/",
          "height": 34
        },
        "outputId": "c4260bfe-ff7f-4c73-95e3-5f030a2f33e2"
      },
      "source": [
        "rewards = 0\n",
        "for i in range(1, 101):\n",
        "  state = env.reset()\n",
        "  ep_reward = 0\n",
        "  for timestep in count():\n",
        "    action = np.argmax(agent.q_model(state.reshape(1, -1))[0])\n",
        "    state, reward, done, _ = env.step(action)\n",
        "    ep_reward += reward\n",
        "    if done: break\n",
        "  rewards += ep_reward / 100\n",
        "  print(f'\\rEpisode: {i}/100\\tReward: {ep_reward}', end='')\n",
        "print(f'\\rAverage Reward over 100 episodes is {rewards:.2f}')"
      ],
      "execution_count": 26,
      "outputs": [
        {
          "output_type": "stream",
          "text": [
            "Average Reward over 100 episodes is 151.06\n"
          ],
          "name": "stdout"
        }
      ]
    },
    {
      "cell_type": "code",
      "metadata": {
        "id": "LNzaSf0iFQgl",
        "colab_type": "code",
        "colab": {
          "base_uri": "https://localhost:8080/",
          "height": 421
        },
        "outputId": "d4f751a7-f2f2-46c5-cdc5-9da78fe92357"
      },
      "source": [
        "state = env.reset()\n",
        "done = False\n",
        "\n",
        "while not done:\n",
        "  env.render()\n",
        "  action = np.argmax(agent.q_model(state.reshape(1, -1))[0])\n",
        "  state, reward, done, _ = env.step(action)\n",
        "show_video()"
      ],
      "execution_count": 29,
      "outputs": [
        {
          "output_type": "display_data",
          "data": {
            "text/html": [
              "<video alt=\"test\" autoplay \n",
              "                loop controls style=\"height: 400px;\">\n",
              "                <source src=\"data:video/mp4;base64,AAAAIGZ0eXBpc29tAAACAGlzb21pc28yYXZjMW1wNDEAAAAIZnJlZQAANf5tZGF0AAACrgYF//+q3EXpvebZSLeWLNgg2SPu73gyNjQgLSBjb3JlIDE1MiByMjg1NCBlOWE1OTAzIC0gSC4yNjQvTVBFRy00IEFWQyBjb2RlYyAtIENvcHlsZWZ0IDIwMDMtMjAxNyAtIGh0dHA6Ly93d3cudmlkZW9sYW4ub3JnL3gyNjQuaHRtbCAtIG9wdGlvbnM6IGNhYmFjPTEgcmVmPTMgZGVibG9jaz0xOjA6MCBhbmFseXNlPTB4MzoweDExMyBtZT1oZXggc3VibWU9NyBwc3k9MSBwc3lfcmQ9MS4wMDowLjAwIG1peGVkX3JlZj0xIG1lX3JhbmdlPTE2IGNocm9tYV9tZT0xIHRyZWxsaXM9MSA4eDhkY3Q9MSBjcW09MCBkZWFkem9uZT0yMSwxMSBmYXN0X3Bza2lwPTEgY2hyb21hX3FwX29mZnNldD0tMiB0aHJlYWRzPTMgbG9va2FoZWFkX3RocmVhZHM9MSBzbGljZWRfdGhyZWFkcz0wIG5yPTAgZGVjaW1hdGU9MSBpbnRlcmxhY2VkPTAgYmx1cmF5X2NvbXBhdD0wIGNvbnN0cmFpbmVkX2ludHJhPTAgYmZyYW1lcz0zIGJfcHlyYW1pZD0yIGJfYWRhcHQ9MSBiX2JpYXM9MCBkaXJlY3Q9MSB3ZWlnaHRiPTEgb3Blbl9nb3A9MCB3ZWlnaHRwPTIga2V5aW50PTI1MCBrZXlpbnRfbWluPTI1IHNjZW5lY3V0PTQwIGludHJhX3JlZnJlc2g9MCByY19sb29rYWhlYWQ9NDAgcmM9Y3JmIG1idHJlZT0xIGNyZj0yMy4wIHFjb21wPTAuNjAgcXBtaW49MCBxcG1heD02OSBxcHN0ZXA9NCBpcF9yYXRpbz0xLjQwIGFxPTE6MS4wMACAAAABjGWIhAAz//727L4FNf2f0JcRLMXaSnA+KqSAgHc0wAAAAwAAAwAAFgn0I7DkqgN3QAAAHGAFBCwCPCVC2EhH2Olc/N/wTjPQN4hzjmB2SMDw/EQB1MuEmOc9NjEpVqpj9KkttzRj+qqsYTiBQsOEu4QxfBOjcLJepMlmUs86g/XZAF+B9+VI4wl4Z8rE8/Pp49zq2tjX29L5XZQjBPmAR+/ToLYIQ8AhWFxwefhxYTm/hEc2cW/Ce7vT55nUsChpIUrFQHnIvSU8PhyCNOmsa53yqLHdPt/g0LxPb/QT/b2cGUWd3k/fILXzlRJ2A/B8DG57W3UtKaprTlnx+6ebqd5aLfRq72ko2zsdnDMv5rF8nEM08PIQHcPJPCytd1AskPlX/ajnA9umudRhl7izCvAAAWjSxkxwp2Sk7UKjytkFPQ3RaM+5zxcT1EIaAIDvgd8CQE1Mikol+CDIfcc//n1cOUH4uw1mR0NH+VZAU8E1kR8VmYNwKQ2Y3IAI4KVRKiAPAAADAAADAAAsYQAAAP9BmiRsQv/+jLAAAEYI63C/a20YBRzR860YeRs2U9nczkAGmJbmuKFRQp8aKzJsZ+stxOM1oaHGdL23vxAPYMpCgsch6QZYDvdWY9DmjCLdKX1V8UaUx4NV6Ucn54j7HcU2Pm4W4Eu6xFj8U2oJxcm9+MygNuUPdxDvILTtXrS0Cce7u5xB7ssdVQzWmmhiTb1Qw3xWaVI6s2e5OpVEIIDP/hM7fU47sXqAi6wvOcMfZNZDtrOGBwSWLDs9ma8A0832rCxM1Ogjeoe5UDThPEB/73SDlC9y+xnJhxZsd+kAEaDpug5IpCgbgAAA2mkQoSWpcxVrHCZkvPFSwTpYRCQAAAA5QZ5CeIR/AAAWdGWP+x06Yf8nB+KwNnxU5JkeXXrWpHSPaOABu3uxTardu3gAAAMAIwFxBsBmywETAAAAKAGeYXRH/wAAI8MXdVOH8caBo8XFdKI12AAAAwAAAwAsYLhXDBqAQMAAAAA0AZ5jakf/AAAjvZWtuv9x++xq0YJzhHZWM9EXDr4Q3Y3XDxS9A5bIAAADABmF9sLTplgLaQAAAMVBmmhJqEFomUwIX//+jLAAAEYQk7OfQC6MA1KvKCXdSAbxQZe2v+Br+0oDYkeQcZFx0QryETzXOhnUrhXo2SHU+7vVlIiBbfD5sZ+OZT4t+sK+jbTMKxoFI+mkzqZQM6Xrnjg6G6Itrh8zz81prMwV9g7HKehO3p3C+U73R/txwXc+r3B/YFt+4qPGcL8t+dX9asSIZm4qqFyl9gYxAJIPcHd4YTUvg4wKIhmP0PjfFnSHzQ9ZlnxbUN/9zRqCqIWJw1qNCQAAAGNBnoZFESwj/wAAFruc4vwAjvDY+x+c0tItlYndP2/q6DHtCjwOZ9Q3eZ1FPlMt8z8lR6KWz7UyGZNX3BThTPfMg0s0qKTnwEQFN0YInlvDMITtggLa8iBQk/PINS4b9Oc55l8AAABLAZ6ldEf/AAAj1SEALDZ7vCiRgo/Ddql+fMklncPUtUi1Nw6pqanx9/aFDY8/N1LJRAd1YIt1H9dgkDUMSBL6vLaxebmlEYbSPxMXAAAARgGep2pH/wAAI7nBXs/FPxcSKv0aQNCjAOGUUa7D+Yq0rPppWBWFb4W+0ZPn4G8ytSg8AH4A//bAT0IMWzIIYEEKCSHkxYAAAABlQZqqSahBbJlMFEwz//6eEAAARbpvPqd/+aJaBbPQRDuE8EX6TEozQM5oXJwQnpQc5YAA4OVd2Pc5UbhoPORXI/4iIjz5ewlfKWqH6ycIt0r0Pd6RqFfP6pxPv004KnKYRhhZUWAAAAAwAZ7Jakf/AAAjsixxHFE56vMGtyaff9MboXecdxZMabju9h2yjGD54htqpR9fEC4hAAAAcUGazknhClJlMCGf/p4QAABDVJDnF4yv6oykl5udBJpdABd3yWK1t6GFpi8JiEKCWD0JV5LcLP3OVbAlUlahkaB8Na9KUxZQCiRiqNvTqLAt4KF+B8QkY47splSdh34wMCoL4vGLZcAF23U9o5Bz1RPdAAAATEGe7EU0TCP/AAAWIyyuFBRCThVu4AA3T0gZibna1bqpnxV7Zbz7JZqSblaZVI7GjT9pI61QIc8jSRkafdPXOWL6Hw8eLpYsaVMkrYAAAAA9AZ8LdEf/AAAiw0cLcS/xRZ2tNlhgGfsQb6lOV85o4NJPzPqlzK8MQOtm1nULh7WvWmSIt+QjAhJvMTyYsQAAADMBnw1qR/8AACK/H3ocd9VWRaTJvWQSwRmgiyANpjJ5jgnph7nWB32aFJXdIa0y4mDvTU0AAABxQZsSSahBaJlMCGf//p4QAABDRGp1f+K+idUakAECmZJgs3nLl6loU2sqTJ15WQvuLNvIqr9Hk8Hj0yJ4G+NsdzLJg3JifleRcD9tuOl+PXDlrWjhWhKMSWS1+nv/aoc3BOMOkiXo3KpMS4ktkhfvKaEAAAA/QZ8wRREsI/8AABYrsYPBfwJK3R8vzt+cjz+8oxSbCTv0EYk8SkwUnBINd6G3A37mR+uvFmi9lmTfkYRhiamAAAAAMgGfT3RH/wAAIsNHCHBO/VAUQNjd93dcPDXwdSujA0ppA8j/HTpxyKZzDJHmvLjDNTMvAAAANwGfUWpH/wAAIq4zBSQ265WVh/s4pp9L252BWUTT9Yrrdox64y8dRCcz1c57lISWLspm2HwHXf8AAABoQZtWSahBbJlMCF///oywAABEAgqs4AWHUl5qHkdP8kJFBD7qwqrce3aer4PzQs/YFveY1Y02xK8+7Zj/vx8fq0ySyR/bVIv0z55dkPwSH/1X7OJddHA6o+aiklXO8GLyhaKDLNT7x4wAAABGQZ90RRUsI/8AABYjLI9WaYljf5kuA4Zy7x8L5jTbCox6OYigDVcrn3Qq7ZQPMCXPMTSEa3v+AG5VUx9jizSeXF3NSD3WwAAAADIBn5N0R/8AACKpz/QQ8ThIhBxa/2yhhTe5Im9rc1rZiODimg1EG8k7uVt1udTs4JympwAAADQBn5VqR/8AACK/GrQ87r+kEkx7XEhKIFPPYLTvBGVKBCJoxNURs2WWT58wyNbXzjaOdUJuAAAAk0GbmkmoQWyZTAhf//6MsAAARCR/E77AIPRcJj74mJZ05L4ykBYspu7F9dKodegxHb984fNvPTh7IjgUjB9xIGax1apEYxpoeqaj4Y7VqXRzE4UclHNx2m5rGf9i8w8BMmQ/WDWBuZ3DJfIWnPD1ciGjWYWaG0TVRu4erQhD5MrGLTiGy/eeREJDE+ZOK6DG3R+h8wAAAEZBn7hFFSwj/wAAFhfLc8UaHdFVhooGN9GCDWjR1+XUgu0Rr5jz1wHJF3mNZcjQrgxx99c3WqXfCAAXUfQfBdryp+S2AcJvAAAAMQGf13RH/wAAIqnM51TLAIQr1K9jHj+obV8wNHW4mUdJvD6gMzOjrzDxTZe9bMRL9GUAAAAzAZ/Zakf/AAAirjLmiPWSM1lHPfH710x/BGt35jx1nhEHb0rxFDJBpPVbZ0Lyib0YM9mBAAAAeEGb3EmoQWyZTBRMM//+nhAAAENQzT4gCdjua+yx0qmhT04ZZiolEXMTvL0eNXeEyktFCqPaVDybA2RDxkNYNp5H+7vkNYy6V1VMd6IzxL1mLCs6CwOhde+5OV9IbQ4mpvpffQQjtES2dCT1sKmlBi6UF+/BxMJK0wAAACwBn/tqR/8AACKuMS/ReqtlNaKvSCO0F3qhigzXF3aUBY1lY858hC1zd8K3oQAAAGlBm+BJ4QpSZTAhn/6eEAAAQ0PVTy6cusfv8F+1LzbVNVlpGOJBAr5+dmHt4WrCs610w3lSraQknaeyVcO8hGxODKtyyFEvocuh47xcDSj8a7456rPR5V/878nbF2qVB1+b4lWAlTif7pUAAABJQZ4eRTRMI/8AABYinqi0SRQ0Dn0Gvlizp9PGxk2/GTBxT8AAiQCPHwYFFfAJn6e1YnUjPUHzfeywulDuH5Fc6PFCtsoQ4byT4AAAAC4Bnj10R/8AACLAuB67aNuC4OKoIQcLRmOQ4lFpsmpjnMLrpASo8vvTxFbYs26YAAAAMgGeP2pH/wAAIq4xL9Iy9MhHAZqUdqIagVtzHOrDHfvPvUV74I30xEEhrfjzhJTiG8UFAAAAbUGaJEmoQWiZTAhn//6eEAAAQ7pvOs4kHQ/HrLMAhEZ2nZjxHwEEFM81FMdyr/f8At6l6pEhdN12x8Jt+QxjQ/erEIWnyCZnJ7+U+uRZTJGwh0/dI3YfYTgCpfjAarARznfkqNGWIqhrIyl2cGAAAABLQZ5CRREsI/8AABYrYoYlygZthWSHZ1jI5zZkYtSpaBSSt6P79L7tn2s3nnSuoUo0mlO093o0BkZn7A19u6xl0nyvhULcab3w3lVhAAAAKQGeYXRH/wAAIsC438GEaVhxX5/G6g4XyKruNHjw65It5GBTz8OZdA3oAAAAMwGeY2pH/wAAIrHBDcaCzQrZ+yvmJNITawWzqOzjyjYbQ3LWYZvEDr+E3WD5YUym3ms1IQAAAH5BmmhJqEFsmUwIZ//+nhAAAEFkBwlkF+yXWXPfACFOLAX0a1mlpuMYqSCdLrn7iXPtuWKbhfQL65WeHSTm2+f8M9uvthOE60v4xtMUz1sEjF+k46Jri7BwnNFA7Uh1UUN8ZFwHnwb5n7nWEP5tY8ZuEwvY9iA3x4KC6oSrhCsAAAA+QZ6GRRUsI/8AABVOGUhvbtbFhh2zTDx26WzSqH58wAwOJXBTcvdA1pqXI5Ey8nCFNl6KultnW7jJML4WTYEAAAAqAZ6ldEf/AAAhwLmOYZwfy4HEUJVdMw30URarc6GDijdEqOmOoVKKumqtAAAANwGep2pH/wAAIb2WfsfJyI4uuMGQrZvyxm2pb14seI9wAJ1hocmdT8QxilJRiyGVLO2WWazsYWAAAACOQZqsSahBbJlMCF///oywAABCEKJrEGkzaJM3SMd3igS9a1H7mr9aqry5bHvd6TWOi1BX4Qs3qZOeW5IXhYvTDhRvHGXYxIXYPwwUwJits/MEey+hP/yui/80YCywuntPem9wC3G6RhxfaR8NmrDWwaTf8MaGFoImH9lvDc33989IUId5/Sd+Xdk4K9kB5gAAAE1BnspFFSwj/wAAFYgGcJzntlX27ouhoauPWikLtwh7/TTmo/I8QASWpmsNKhKGWAFxWZPZTBv+c6bEHgAvQZ+4M6hZiZKj0usANWlYEQAAADsBnul0R/8AACG3ny86I3j0FgCznan3LVXSbRQpzy8KqbL/1rCkjgUVbBKH+ZtZWtE16+rmVJ9dmeSRGAAAADMBnutqR/8AACGuMS/Rzc1kMjJL8aDS7CVJPCKtRLTetMsyIg2/+XuAFKrjGKqxACUIrMAAAABuQZrwSahBbJlMCF///oywAABCem89zmlYPYsesDDQKDF2vrWgvbEwMaXWMDQrqLaMPiVxVWq7yYmaF6J9MvXDV7Q51g/FB6ZwsBv7lYR2W9tSPRKPqtdYhjhyVmRweg4waP9M2I1TPj9bK4T5sYEAAABiQZ8ORRUsI/8AABWR2dPgCJQSaqfpNJIiBXGRiSulLrsn6gvuo1CU0yUF2bkU5NC3gE/h9jBzWJT37o6VGlrqZhJY1r7X3XFpDzGhl0dPR8snyBBVzOOnvp/iLSpzrR7FvEkAAAA4AZ8tdEf/AAAhwLjfwKYpOj37tNNGxTk/H7qQERnp6waCOogF0UabpGBMY4hmyzc373VC5postmEAAAA1AZ8vakf/AAAhrjEv0c4gHjLsK+O8aJNqI5xvDHDAP1WsQ8NXNS8YHbSlj/Ud8LFsFwJQrMAAAAB3QZs0SahBbJlMCF///oywAABAAXYYMAIwNJr9ABaCLtzIYqFyLpvUGNbWNDAjvGz7DaTt0iayLhEtAvkcNNUJJoub0Do45YLXlb6BaFP0cAToKleXEnjDvr+F1s/KjiDWhoGZONOdvJlns9DuyqvjX4Kmq/m0JysAAABHQZ9SRRUsI/8AABUB/eHkKvFGAelpzM4yG6WdkvyfjgJgg0mNJPqN8WBKritVGG8vYf0L93RFh56zmtvevDa8nKjc5ftl6s0AAAA6AZ9xdEf/AAAgqc/kTw2zrqq62Cyb9me+9qwKg0STCLwZ/EJ0Ex51ACWU/IyFM6uX5JbMO74kTfSqQAAAADQBn3NqR/8AACCuMwTJ3JdOh1Wedav4q3Ll4N9zGj9q1IX64V3X6YhJDoHSO3UWRCkQ3KpAAAAAYEGbdUmoQWyZTAhn//6eEAAAP3anopbxHMSglKvJnNRxboylV/5/mHwyRiDCIQ947fsXoPGJR7T6wlA1FqmItKLbvRLfIFnUnkzVg6YosJDNP7TuFCj/LvAdFbALaviD4QAAAGBBm5lJ4QpSZTAhf/6MsAAAQBCjxgwBQYh7R4hvV57Fz06+4Rxvq3mipMbddHdO+aKeOz+38dS8t5XamUQAfl/a00B815QUwbGEk+pfrvEfbGuOMR+f3hfl/aGgyV8IHCQAAABsQZ+3RTRMI/8AABULGMRQAiu5Gyv9kBtOJQY+fh+dc4YQjmTtUg0WArDRmQXxUcCpbHCs4gvY0JvLXYNp2FZiCfE5r3OJ3p4LHNGaIlDCnaDLzHp08SFjpiHSZ7/cyWsbn7WSnnQW6ycV9RuBAAAARwGf1nRH/wAAIMB/pZQO0PCFnqig67o0F1sHhI5B3sEaiPXAe5b1YhUQjbKBQIm1xFbXeeXoKADZ1gCAh3zBLJ9tuc5m5jwhAAAAMgGf2GpH/wAAIK5N3EfNPXG2gg57BCwz560GjfXc2izktE30yHWgAp0t5ZNoqoSFIMm4AAAAZUGb3UmoQWiZTAhf//6MsAAAQHpvP90OoTVAETHre81gb1P2uMXQDNU+9w3UTxp0fvMvfQ5YNzNj2PJKx8y9pQODpEfN7uAUDVdAa3BA4BRMjdWYat99d8T4+anwNRicS+NoQVpzAAAAXkGf+0URLCP/AAAVBQ55GZly44nICh3AHNFDUrlxZuc5sUDYhpnTozA1dAvmXF8FBOaaWVBq8hLPIqlhqsCzc+x4Ez3XQ6ffTX5YYF8Bprm4N4ipb9J4ugL4ht89RTAAAABEAZ4adEf/AAAgv/62lrwkRtN4VOieVf31BKtwv7apippgXGHoOsr7QAIfc09hNwpy/a8SeqZjir52hq46sG/6V/+IiPkAAABHAZ4cakf/AAAfuO4D6WJ5YA51OrLyO0WxebyPcXxEX+VNM/c2ld86Pn7uZlYby1nIAK/RsIycSn/ArycWzLvSD9oupeDeKYEAAABsQZofSahBbJlMFEwv//6MsAAAPlwqzjtOD8GKHEZpyTScUEQAUG2omh2Qgn5X+vfZR1DPOuddSLO314cAB8Y6oaVuAek97/Cp+pCYTSjUKKb0M1h3iA9uV2gnSvwp1EnT6sSThNIzUG2sNM5AAAAAOgGePmpH/wAAH85CEFab+wEAMbrFFCY4lRwD+6t5tEUF3Ucgv/Qm6B6Td9YY0qRn2WURCIv/tdSJ1dgAAABVQZojSeEKUmUwIX/+jLAAAD5n26M+KCdnpE1bhuDSOHynRo/5fzvL0kT47H+NOv8VEIAk1p8b9btGTgUt7LOAFpP6Qt0jHCF3pvMuIcX1rPpDCBHk8QAAAEFBnkFFNEwj/wAAFH5l4QqDE3vTeFT53DF1NAAWHb9XewAJ9rxkUHtn/6GIqUCXBEBJc6ndzV80eOx9j2WCmW7KgAAAAE8BnmB0R/8AAB/ILLsHpumPwub/w2412T4EMAVBP0BfpPEDP/2FhJHC6s8lFmw9CbABOfhIrjN8nZsWOIB3tAveyOxhf0BVAgblCJvr9zUhAAAAOQGeYmpH/wAAH7js2nD6oBJy+727+1aCGKxBsOis/wZUwEk5upOmaJmeUenKChW7BNwvPAGEUQSY+AAAAHJBmmdJqEFomUwIX//+jLAAAD68JkBzzkdAESvUgqZBPDZuTGgFVH5xJHocVk2JtCIgrhS8A5DV64aMfQsiJxNTS4USM7C1ihsKhhLUV/fkAsUgNITa3PuR1qNXJOuzJAX18F4WxTWHm4xKA8WEUMQSqm8AAABgQZ6FRREsI/8AABR1Nu11J+Ksi8bSvKJciNV33C7A8UO7QIH5yy+p1WOUcxiB2aKJy93u5Ko6m8alTfW/wOWo1CH+RWDJsu/UkX99WvS+Mdw2CLUfNLbnkMHEA+XwpXHBAAAAOgGepHRH/wAAH7iNjcssArRlt4vF20iVyF//ANdPCTNiAt5OsZJ3MTfjNKY75hGh4Nlv3QPeplp4jccAAAA2AZ6makf/AAAfFmOWURvNCx73dEXyp5RgvcKGDejP98C1M33DDF/fTqDsNQqjbNFOSChmju45AAAAg0GaqUmoQWyZTBRML//+jLAAADz8dxG4A47oRAGMhoJBqnR+7aucsuerske04nCEK6O3pNWtsZ2qLmk8JhpBN8+o/4vo+DmWU9loVyXBQHbKuoLnpeO/G7S4x9EntuQJEnmiTeA/X8GjPuWrlh5Tm2hZ99izUYtOh3Wi9mX//3rY6PFAAAAAVAGeyGpH/wAAHvqY5s8Dz9AI6EbKU71s3yvh/z0rEUN6jSbOpq6eR4k4iJgG71fXX0p++yT61OUIdDEKXHxl8Q/5mQAlbvxuegz0BhKDH0RSQcS44AAAAGNBms1J4QpSZTAhf/6MsAAAPVwnPdSfV6bsRT18MtUZmUAFswCCZCXBTutjzimk0fuTJTQ7dBKR28AGqukMoBij7t6d8Sbx03o5CLkHb+Eyh2xo374l5WRVlPf/JqW2no6Pg+cAAABWQZ7rRTRMI/8AABPiLwj6u6rg3skq3wzFTTbXiPjyZv95vcIjUeiqMWJDxfXz2CbkQLQmLaBUtrkhmSxkN72MACdt+WVJGEHDrRrYYoWqZMrBYI6QwWAAAABIAZ8KdEf/AAAfGCyipK3iUYBuzXWOq3gq+RANC36tJE5SAIBItt9R0s30SZZJIjWMWbdBX/pYAJ1SgPVEqWn63ZxnDaNkykFwAAAAOwGfDGpH/wAAHwyLsDc4cbCkn7N6E2/Eufo/uM2nMf73xlmekvAKWJWhm2axcpqdDeLbLsZx04VuoNSBAAAAakGbD0moQWiZTBTwv/6MsAAAO5xtJssHs8VDC0gy55T7BHc2K1Ao9YmX5piQKHgxfRrnbkS44gAGwm0NvnX4iMN8uHK76xD5ngu4CfeRSce9jVOsFPpTj8mD8MWuAFVY+scF6XpUZ+sy2YEAAAA4AZ8uakf/AAAeWO3/VIgDGRjfbH/fa4Uy3kJtRhP/xmy5zSfTZzSL5PbD/UZTUsUFhbP3NFtaKykAAABqQZsxSeEKUmUwUsL//oywAAA7nGzvce4NAlqmP17WZjYCz9URixiXTS5hJPYTq3p2/wr8wpPLpn0OPS3WvNu2dYNUR4iJjpIz6FPgBLct76SPySSrTXzJYzpZDAimYGVVuySOEK9iqgeezgAAAEcBn1BqR/8AAB5KmObPAMPSbR1neWxoNqpp6VvrJu4ehB+IcEW9ySVI/Y+4SzxRqIHM9gA9yf8+cl/8rdVAKf5VLdBnn9a4ygAAAGFBm1NJ4Q6JlMFEwz/+nhAAADs+f+0tl174SbQAadihV3SELEsA1xmj2uw0qofrYizgod0hWSFCkdNKMnr9hjbFmF2FmyZKiMyHYoI8PXu5ntZlArVy9GWbz/1RMbpNR89tAAAAQgGfcmpH/wAAHmXYvcejaPli94UKIr/HrnutbjOdRhls9VVbVLvto5Oq1/N5mOwx/AAJjQHo/gNbuTB7YFuv9O+YYAAAAI5Bm3dJ4Q8mUwIX//6MsAAAO/62ftdjBgBYJGH5HOhOUlie1dKlrGJYA9ycj0cBmYHdUcPO9Y4dGACGPPm5QkYeiYQD3pOFCk5eEff/zklAk/htTSdmAA5OInlAOj/jPwxNNbSsJ1knhYtXls21FCqmFsXE9nac1e8JdYC9eGA4fJli8TMGAC+98L9pCnwkAAAASkGflUURPCP/AAATV/Eq9BIN1dgn77fiT8sc1dMUpHVV13soFpQ8KbCwT/thtM6MKhwOhdSb+UYHZ76wOq+tAAnbvGwl/RqCT8IBAAAAPgGftHRH/wAAHliNjcYLh7q0MacT6p1q5wvjbf1LDd+gmCcyS+SCuABqM86iNi6GO0tr1w52Wm46us8cysDTAAAAPwGftmpH/wAAHb5IYFZ6PAVtglPlWMroqPYZnHuf9/whuKais/DXjViaSWLMsRwqdb7Vrzl4xYya5t62ykOVqwAAAH1Bm7tJqEFomUwIX//+jLAAADqcJz3WGFDADhNnNJWTSIQgMRJiOHC52K+aJ4okMDUQ/zN9SBZ8iZA6B+Ky5DRbBaxhElSsXqsGrb5umAdDsYz5rbEnendKCy/7Rb4HYkVvPFqCJ9v/2FN2kPVsYzP9xx3szUla3H05uAbrdwAAAFdBn9lFESwj/wAAEtXvl7ZmI06r1lecsFCgz0vW5N/6QID/0ZpUAfod7VX+8VB2BUXwAlkYbUjaSbSgbX3q/lOLa9h2su9+qkvPESTPpf+FMaCnNloSQP8AAAA5AZ/4dEf/AAAdt2AyEtGlYJDerEJGYS247/8Z7SuXw1XUDXGh+8Zu4335d4fIRatpheeEmDt6nH0xAAAATQGf+mpH/wAAHax12XREMo0v+Mq12jKt9QHQN93IiOh88qnQ0r+/f1k7Sx1UgVts//XeCuKcZpf08AJlI3HkCC/+XAn6T6fPIvxwVFf4AAAAckGb/kmoQWyZTAhf//6MsAAAONy01xp2cD6L73TCzU7znFrTZhNRPC/yEAogax4aZ8PQgBwUgtR1ndxfkx9aLQA1ksP5ZvbNHx/Wao+74INsFINN7RNK9OKFgXgs53aF0y9uWzom2x+buG7hFddb5m8OIQAAAEtBnhxFFSwj/wAAElX4ONZ/0bme64uRXUiGTN6DC2rGpX663wX+4ePB0PsLe8N85tYnoL1HB92yqkobtjqwALqHRSCwmb43yLdBboEAAABNAZ49akf/AAAcpOSgvfvUzDbvO1L/r5QakFIkiAzlfbhg6QvqsupbK/1x3Mz41th1JHN71a5mRYAXD7/+P/256dV4t0BDF1vWekGDP/wAAACUQZoiSahBbJlMCF///oywAAA5PCdBjntVVpIAiV/70GtEpfUeoenA4bTAXXbLmXwNFFOiT6nUrRtO84gpXuqxa1ybCoi4RjFT6a0VioEv6kIhwL2gEB+ErMXQIPUEs3HAJ7kE1EdcliEnP71dVeKRzaW3gqKpKxKacU9YbDABGkejB0V4LEVcBg1N1DsdzmeAxi8lQAAAAF5BnkBFFSwj/wAAElf+hubt1PvZ8wAA3UtJzz+FVx6QaxJhYaq1FX/J/zdq+vjULBqBoXaKQ1J4WGhYlJphY/j/Qf9ruI64+57YglmtlkIYCATp2eqRXRhvNCJ/3f0xAAAAXQGef3RH/wAAHPXOCJ3VWzS0Ix6G1P/zqysAqjPixawBpnr6c8uu0HAoGybImENhZQSFqWfACWLfqbI+miub8oq9LaIs4vYRMpqdnQzRypfgyHQdlD1S7nZkqmV0TAAAAEUBnmFqR/8AABxV8i+EyrMX2djoh6w9ACS7uWDTP2XhyXEze3LyiV7FpRgaoAY1ZS/8kp6Q/Did/Uqypg9G11Y7S9UR1QUAAACHQZplSahBbJlMCF///oywAAA3lITRC0K3tRs9ABHtRvwqweIJeEJx5/h3+jqBkstYqZh8wcMDI6Z11xWXOu/KRl1k2SQicBoGTJ9BVeVUFLTdeya+8qIfXcQmjxlDfznYnMD33Gt+ewZJau8AtSOZpNnoZktvlbPB7K0davP38HlQHyCXK/zsAAAASEGeg0UVLCP/AAAR1fg2GU6GzQFAqwT2mbagRAqDms2+/YIiT55qTDRBauH37Yi42nX8qWd8cYABZ5GLhCtyUljkqhMkgfRXzQAAAEUBnqRqR/8AABxIBeH5AzNp40zOpfVpCIPp9WjnLEvCWU88xk99yetb5wM5jx73JUAD88JVRtPyTisL0luLHzJkIW86whUAAACKQZqpSahBbJlMCF///oywAAA33Cc911+3f9oAdA0fSXZI3OYjzGDNSX/eaqjsrLAHMfYT/7YLuJN5LeyO2njUauOpbtWwNoiW0K+wUmqGZYdPHuWy1SG3mHwwpq0SLOvbjf3H3WgFx/yt4S4ilyQPn8sJwdfNrCqBmu1BxFx+EPn+1PyEHuCyoeZxAAAATUGex0UVLCP/AAAR1/FJJBILwa6R1kD8DtZjJ4rIlPM6ggAFtHiSs+oU/1xUkTNojmFzsk/xUKttV2KJ6XqBOYquZ19VdqXlQxEDQdDdAAAASwGe5nRH/wAAHEhzCerqKRkN/QjL+IQ65OFKsNoEINLS6TKSCYv50byrQuW3AQAmroVASCfTT4qAqsDMEdDCPfoWG0C17s9mYsTvVAAAAFQBnuhqR/8AABtYtjH/sO8vE54kG4YUAJLuEGAEtIxwn0s4VKZNt4eMaA1wJ7S7EJGjs9BrnlVYiyNhfybTAitoAJ7sFGzFUtgcV5TlM70SeI1oeYAAAACGQZrqSahBbJlMCF///oywAAA2Ss58OO7pwFrVz0S3O0QJTk7t7z7skAbfi+/pOTvisDPy2+AzpKXnOvNXjXE9ell7F6xxYnWwpxlDAelJPbxw1V+KHBHIXNRhZiLuKhnZ0krp/82Komh8a4rO5KJHx/SjBwo4j+0Ffy1tT+/NeIYICANKhyEAAACTQZsOSeEKUmUwIX/+jLAAADaetmWGiPMLGGUAWB5j86jdv6tkL45XnvFYpvcGT28zzdMZIVSPnL7YWJgVTUn5PxYSHSKkAOQ5FOEuGydmyw/bJNCsMYPImoEhn4El2Y1UpyR2YIkDwi1NcIFmq8YHuDjQjas5aRFzqsQo73AXpI8glkar8Tw1uv74XO+U+ox5L6dUAAAASkGfLEU0TCP/AAARWAWf5YigCIq1c3vylEf+MYsE5kH4OaGpVu9O7L6LlhJvNJXxNvtZlEJkhoh3I7c9tzghOssWk4ZuAuvMxrBcAAAAWgGfS3RH/wAAG5wRCO3gBuZHzkMpyTU5f/J1iu1D/u4XG79M7bFe+aoLj4IRunPCFhb6rH691rExfc6FvY1rxd/ENgrLwzUNDTsfuZLhRw5kEFt09YjFMDuxcQAAAEABn01qR/8AABr7xw1R4vaVuS4EMfYQAyRIb1w6GamWuWokcC0RfzRpCDdCpNx4vLttmlSnieYdQpdH8znTKj+BAAAAdUGbUEmoQWiZTBTwv/6MsAAANV62ZSiz+k4G34wN0A6822x78QEDHl7chJMG8O1eroAG3y9p+iwCJ2V7V1xVR5Blf0zLoo3ualvxY/1DmFAC+GkwV2DzCcpnOQcqYx+6HxJEUyLmPBqZvaw1Mq2Q3XiapCYOiwAAAFgBn29qR/8AABr/YeYEHTS8ZOjYAAtjUuwtT0wIdPIQmf4sW1B41Cyenf4Fy6qGoh7YOgQkA8zux2zghfhGo7qNK+rq7ugm02ImZja4vmpSnXmaMatGNJWAAAAApUGbc0nhClJlMCFf/jhAAADJ7/zXoyMVQA4pYmqSg7l5Su3TaQC+E0ZDEHjrIrzhHmxmyNAcruZeka2TdjcHX9fUGfOiNl/dkbd+7y0SPvyNNFfDnBIKPT05FZ2r/5sdcLPjS8g2tgFyRctmDLEgEpHXTa4ZqiezG04bKobiDck6mOxsH7/3uQVl4hUN9IdlRHAvKug18QnZiyfgdh/qsjeQxScjIAAAAFJBn5FFNEwj/wAAED23bp9bMJ8GjzTW6yflnYmj4GeqTBTELQMk7CsJA4OkOdJDN53bmZCmgdrPDFoLRNuScYs4N2IkiG80nMGHtbNnxxrg49x9AAAAOwGfsmpH/wAAGm6aSEuFowVjBOtiK2oxPo+uot/vCFFltISoKfoos7p6D4B4qV2L75eaRHhJ7luZmyD4AAAAbEGbtEmoQWiZTAhf//6MsAAAMqAfLAzX8X3uTPYqjdZfzwapSUVIWQDIgNKADc1m4aWpe6RoUXngPggUTJzgKXcvPTRNDiSmks42JRyjEZduirQVAdSJyFKw4W9ruo71m87FhuO5I5Mn4GwRoAAAAHhBm9ZJ4QpSZTBREsL//oywAAAyizKiVTxgCtuQYNvkDFt6TmbliwzIeGvj9nuPUFc9MjuuarhO0m0fLkbHzf0rgvgiSb61LOazZ3ikzkRVfOZVzsGZIsum7lS6r6/Y81QPQKlG3bOdOFP06s9di2nyyD8TaoxRnzEAAABGAZ/1akf/AAAZu9c7b0TQAc32Ed+pyKa5YddRnwWNnbEcKYLLDl28Vtz7r5xyVNTW5u229KNXSEfdJuu3+qjjc5ZHdcRCmAAAAJdBm/hJ4Q6JlMFEwv/+jLAAADLcJZ5WxVpIAiWfCjKPR5LTwVl0tPbQR9aA7diqQrAHSFNHOqzlg9cYzJKGntwaI29nX9nWYuhq3g4mHSp/7OpLLiCMuCkbCV5L8FM74f1Y9DJS2F6wgvqjqWpjwdHqTxw6hvB8dvs9QvvOCtC8Tt50FMqRlugYW5ahZSgVTBxgytyqSNnRAAAAWwGeF2pH/wAAGb9HGDAQBmzHyJsjJo9cC+05OHGtoxYntKkV6/xA0Y1Ao1vDQ5Ds+s+vjMDNIE5FocsbGgARBIGHMIL4/Gt7oiv4qWH0h8SVyWZGg4s7d3cDJY8AAADJQZocSeEPJlMCFf/+OEAAAL/6jxfJZshgDoFwL0JCGAoFjYYPYQeRrhjPjyD86axsDLpdBaOqG2OigX7T88n0ZBCJIO/MW3AbIDXSK0i+c/sxEPfzQpv2WftboHJhy0AWMgzPfJxQEs/aiFws+NCuF9d9CZalQqbuoevUxfwuhmgyOC27p+3USFdSp9tVH6+hpNAOJYcyv0QsMLxKEg0clSP/PJ8eQ0mFCYx1/JN6iAdMkKbdH+F2Klg27mAzSeBdrJzWOkbK0Z0uAAAAcEGeOkURPCP/AAAPjq0b23XM+Q5Ur9QUcGoHCwCk7gvM/bzCqgWXoxDm8AA10AuTkl4COflQrdqZUeEBz2piqfmcxqC9PYPZ2U/dwmipCNx1eugAxCKpqGQU2TqSlX82PesKQvZc/pve03zvxUNQQB0AAABaAZ5ZdEf/AAAZI26B8Sbd7kxl9mEDmMAv2OywAKcNdYCNkrQZ1E4t5UQMg3UDc1mUu7/N5HW1t7rjdkpQq8vUFl6cYOS8KnWcZ2op0epFGBogj5EDZUT+Hh9mAAAAWgGeW2pH/wAAGR9/LhVjn6P9mI2zPao4wIFjq4sxVpEAOvNOdhlCcEUaBdvhSJr/MmnY5COsmT0ACE/9p+TzOAinz860AiDgS7kTD+D5zGf6kqK0E5+F/Y9swQAAAIlBml9JqEFomUwIV//+OEAAALryfV5ZkRoQAOIgkRc4/oHXhLu2zmA+LAAixYlI1xzC+HNXbH/7JiH0gA1Pz+8rUjim5dj2iKB8eeOjwwlf4cWo8KpAIP/cES+uc1zUxhLxDoU2Ce+lyvbUNDN84DfU/2PiwuVn/Px053n+93pXTWCSChtFY98NUQAAAFZBnn1FESwj/wAADzasib9PKCCasY7hJLfYWvFIGcTyroj0Fu73jMvxnm2YWt0RYfKVplGvlxnJsd8f8m+3zSOMh7ExY3oIVduR6QC2e1D918nXsLk0gAAAAD4Bnp5qR/8AABh/UtNJgkQm/J6u5p0V81U5ho6t7PwZ81NcpObcgsIkpWTph0mMYIkJ06SdCeYJGfFyZ9xvQAAAAGpBmoBJqEFsmUwIV//+OEAAALVF/2foH4elqkuWzzDACwT5PXJr7dcx5lZApQhv7XKygIBtURmpcGmyMxeKDT69sz+ubAoVfNaULN3vO9607pwoaXUQOaVApVU0cg/cc7+lQ2NRZkNyh56nAAAAgEGaoUnhClJlMCFf/jhAAAC2cn1gK2T8IACW3OJTlQu3f5v4khVx9/gbEsR+VMZzOpGIWBPXM3np9n2UkRyozgAQUgEegdcCyRvlCfhApRpJo9jNhl55hudKOGK/1u43n714ok2oxivEhmq6byr/oi6J8NGq/NPpPiOL8hhrSnKcAAAAS0GawknhDomUwIV//jhAAACxZGmfZd/f6bFQqj8NXWxGE/YDwZIkjP4gcJ9ur9Wmth4l8wkZlpNH4DJngC26M5dpTF95BUfkmpEWZQAAAHBBmuNJ4Q8mUwIV//44QAAAsQBXpij28uhj+aAFLCpjHOGdusdx2AB6Ue/vwAJZKfUi1Qy3HKJMlKMTdw88n8nojRhliKbP8fbJUf4ihqI3FmtQeNDH1mI8kW32hDI02e0SPS+3XyuDV2ygXcUDbzhAAAAATUGbBEnhDyZTAhf//oywAAAt/MuTW8eDTul30W/XYrHdLXNG8t5Y6MjuMTA5g5xevpDLUGMuAw0gCH/JgABOPCd3BPWWWKLWjwwarHR5AAAAekGbKEnhDyZTAhX//jhAAACte1rNeCYuVADj2nMaBNO8TF2ldGuWsve9EwomhW9KGQ398Xey4DiHYL/J1ab8KKvwJvvAXdo3rf/UUkyu5oP06d5Swe8bhtONra7ugt02OIyKzMgIDlq6Fdzobik5r55mJhxNDx42lMbpAAAAVkGfRkURPCP/AAAOK41zLtINzjwNpm8zUTrJ0+C3aSL9Q5Ypjh3iQRBn7w0ctgy3vwtdOAY7+XgDebGTMZHXHWRf+uwbu7xulgmBiaCB2+unl1aXmX+RAAAAQQGfZXRH/wAAFqPBOKtdi0O7B+lZjII34b1JAzb1tQtb+qKUgojzLR/440r5qtlt1djgA43afY6GtrL1EBi7/6+ZAAAAPwGfZ2pH/wAAFrSXJ081J0icU6gC4/t/RBOEUUOR9rML1lCQydNj1wNbPDEB+Tvw88GHq/PKbol05XqKKwyF4AAAAGxBm2pJqEFomUwU8J/98QAAAwGd9MXjOkuX2TrtdUGgfZ/vUAHpkIA2bySR/7jwlW2cOXgHduV0KcgVywCS+HCojXNyG3VjzcEM7VYW9hc3Tlb9euon1fQy6VYdd7nAWTg1vgztXEb9GaCe0IAAAABKAZ+Jakf/AAAWJC+bwebAtXa+/Uhm4oFXA1bHGB5g8o+8IooUXC8HTidDjgXKkgSAfiGHxcJOGd8zmzT3EhuUXXWgEbA9PYu/lDEAAABVQZuLSeEKUmUwIR/94QAAAwANP5Pq4Tjd3b/WPEAK99sCcTyrQqpozKt02mpOO+gFHY1O+4BSRNTmwFnkluovJ54b0Z07195uAMrSFPnn4neChjQlgAAAACpBm6xJ4Q6JlMCP//yEAAADAAdHyf9ueg4vOieLOKsDrk3Y6fdoxWUNB6AAAAlnbW9vdgAAAGxtdmhkAAAAAAAAAAAAAAAAAAAD6AAACwQAAQAAAQAAAAAAAAAAAAAAAAEAAAAAAAAAAAAAAAAAAAABAAAAAAAAAAAAAAAAAABAAAAAAAAAAAAAAAAAAAAAAAAAAAAAAAAAAAAAAAAAAgAACJF0cmFrAAAAXHRraGQAAAADAAAAAAAAAAAAAAABAAAAAAAACwQAAAAAAAAAAAAAAAAAAAAAAAEAAAAAAAAAAAAAAAAAAAABAAAAAAAAAAAAAAAAAABAAAAAAlgAAAGQAAAAAAAkZWR0cwAAABxlbHN0AAAAAAAAAAEAAAsEAAACAAABAAAAAAgJbWRpYQAAACBtZGhkAAAAAAAAAAAAAAAAAAAyAAAAjQBVxAAAAAAALWhkbHIAAAAAAAAAAHZpZGUAAAAAAAAAAAAAAABWaWRlb0hhbmRsZXIAAAAHtG1pbmYAAAAUdm1oZAAAAAEAAAAAAAAAAAAAACRkaW5mAAAAHGRyZWYAAAAAAAAAAQAAAAx1cmwgAAAAAQAAB3RzdGJsAAAAmHN0c2QAAAAAAAAAAQAAAIhhdmMxAAAAAAAAAAEAAAAAAAAAAAAAAAAAAAAAAlgBkABIAAAASAAAAAAAAAABAAAAAAAAAAAAAAAAAAAAAAAAAAAAAAAAAAAAAAAAAAAAGP//AAAAMmF2Y0MBZAAf/+EAGWdkAB+s2UCYM+XhAAADAAEAAAMAZA8YMZYBAAZo6+PLIsAAAAAYc3R0cwAAAAAAAAABAAAAjQAAAQAAAAAUc3RzcwAAAAAAAAABAAAAAQAABDBjdHRzAAAAAAAAAIQAAAABAAACAAAAAAEAAAUAAAAAAQAAAgAAAAABAAAAAAAAAAEAAAEAAAAAAQAABQAAAAABAAACAAAAAAEAAAAAAAAAAQAAAQAAAAABAAADAAAAAAEAAAEAAAAAAQAABQAAAAABAAACAAAAAAEAAAAAAAAAAQAAAQAAAAABAAAFAAAAAAEAAAIAAAAAAQAAAAAAAAABAAABAAAAAAEAAAUAAAAAAQAAAgAAAAABAAAAAAAAAAEAAAEAAAAAAQAABQAAAAABAAACAAAAAAEAAAAAAAAAAQAAAQAAAAABAAADAAAAAAEAAAEAAAAAAQAABQAAAAABAAACAAAAAAEAAAAAAAAAAQAAAQAAAAABAAAFAAAAAAEAAAIAAAAAAQAAAAAAAAABAAABAAAAAAEAAAUAAAAAAQAAAgAAAAABAAAAAAAAAAEAAAEAAAAAAQAABQAAAAABAAACAAAAAAEAAAAAAAAAAQAAAQAAAAABAAAFAAAAAAEAAAIAAAAAAQAAAAAAAAABAAABAAAAAAEAAAUAAAAAAQAAAgAAAAABAAAAAAAAAAEAAAEAAAAAAQAAAgAAAAABAAAFAAAAAAEAAAIAAAAAAQAAAAAAAAABAAABAAAAAAEAAAUAAAAAAQAAAgAAAAABAAAAAAAAAAEAAAEAAAAAAQAAAwAAAAABAAABAAAAAAEAAAUAAAAAAQAAAgAAAAABAAAAAAAAAAEAAAEAAAAAAQAABQAAAAABAAACAAAAAAEAAAAAAAAAAQAAAQAAAAABAAADAAAAAAEAAAEAAAAAAQAABQAAAAABAAACAAAAAAEAAAAAAAAAAQAAAQAAAAABAAADAAAAAAEAAAEAAAAAAQAAAwAAAAABAAABAAAAAAEAAAMAAAAAAQAAAQAAAAABAAAFAAAAAAEAAAIAAAAAAQAAAAAAAAABAAABAAAAAAEAAAUAAAAAAQAAAgAAAAABAAAAAAAAAAEAAAEAAAAAAQAABAAAAAACAAABAAAAAAEAAAUAAAAAAQAAAgAAAAABAAAAAAAAAAEAAAEAAAAAAQAABAAAAAACAAABAAAAAAEAAAUAAAAAAQAAAgAAAAABAAAAAAAAAAEAAAEAAAAAAQAAAgAAAAABAAAFAAAAAAEAAAIAAAAAAQAAAAAAAAABAAABAAAAAAEAAAMAAAAAAQAAAQAAAAABAAAEAAAAAAIAAAEAAAAAAQAAAgAAAAABAAADAAAAAAEAAAEAAAAAAQAAAwAAAAABAAABAAAAAAEAAAUAAAAAAQAAAgAAAAABAAAAAAAAAAEAAAEAAAAAAQAABAAAAAACAAABAAAAAAUAAAIAAAAAAQAABQAAAAABAAACAAAAAAEAAAAAAAAAAQAAAQAAAAABAAADAAAAAAEAAAEAAAAAAgAAAgAAAAAcc3RzYwAAAAAAAAABAAAAAQAAAI0AAAABAAACSHN0c3oAAAAAAAAAAAAAAI0AAARCAAABAwAAAD0AAAAsAAAAOAAAAMkAAABnAAAATwAAAEoAAABpAAAANAAAAHUAAABQAAAAQQAAADcAAAB1AAAAQwAAADYAAAA7AAAAbAAAAEoAAAA2AAAAOAAAAJcAAABKAAAANQAAADcAAAB8AAAAMAAAAG0AAABNAAAAMgAAADYAAABxAAAATwAAAC0AAAA3AAAAggAAAEIAAAAuAAAAOwAAAJIAAABRAAAAPwAAADcAAAByAAAAZgAAADwAAAA5AAAAewAAAEsAAAA+AAAAOAAAAGQAAABkAAAAcAAAAEsAAAA2AAAAaQAAAGIAAABIAAAASwAAAHAAAAA+AAAAWQAAAEUAAABTAAAAPQAAAHYAAABkAAAAPgAAADoAAACHAAAAWAAAAGcAAABaAAAATAAAAD8AAABuAAAAPAAAAG4AAABLAAAAZQAAAEYAAACSAAAATgAAAEIAAABDAAAAgQAAAFsAAAA9AAAAUQAAAHYAAABPAAAAUQAAAJgAAABiAAAAYQAAAEkAAACLAAAATAAAAEkAAACOAAAAUQAAAE8AAABYAAAAigAAAJcAAABOAAAAXgAAAEQAAAB5AAAAXAAAAKkAAABWAAAAPwAAAHAAAAB8AAAASgAAAJsAAABfAAAAzQAAAHQAAABeAAAAXgAAAI0AAABaAAAAQgAAAG4AAACEAAAATwAAAHQAAABRAAAAfgAAAFoAAABFAAAAQwAAAHAAAABOAAAAWQAAAC4AAAAUc3RjbwAAAAAAAAABAAAAMAAAAGJ1ZHRhAAAAWm1ldGEAAAAAAAAAIWhkbHIAAAAAAAAAAG1kaXJhcHBsAAAAAAAAAAAAAAAALWlsc3QAAAAlqXRvbwAAAB1kYXRhAAAAAQAAAABMYXZmNTcuODMuMTAw\" type=\"video/mp4\" />\n",
              "             </video>"
            ],
            "text/plain": [
              "<IPython.core.display.HTML object>"
            ]
          },
          "metadata": {
            "tags": []
          }
        }
      ]
    }
  ]
}