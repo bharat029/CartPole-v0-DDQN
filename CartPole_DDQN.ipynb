{
  "nbformat": 4,
  "nbformat_minor": 0,
  "metadata": {
    "colab": {
      "name": "CartPole DDQN.ipynb",
      "provenance": [],
      "collapsed_sections": []
    },
    "kernelspec": {
      "name": "python3",
      "display_name": "Python 3"
    },
    "accelerator": "GPU"
  },
  "cells": [
    {
      "cell_type": "code",
      "metadata": {
        "id": "8-AxnvAVyzQQ",
        "colab_type": "code",
        "colab": {}
      },
      "source": [
        "#remove \" > /dev/null 2>&1\" to see what is going on under the hood\n",
        "!pip install gym pyvirtualdisplay > /dev/null 2>&1\n",
        "!apt-get install -y xvfb python-opengl ffmpeg > /dev/null 2>&1"
      ],
      "execution_count": 0,
      "outputs": []
    },
    {
      "cell_type": "code",
      "metadata": {
        "id": "TCelFzWY9MBI",
        "colab_type": "code",
        "outputId": "04fdbcab-3fa2-4879-c243-6dd7ee575ca3",
        "colab": {
          "base_uri": "https://localhost:8080/",
          "height": 273
        }
      },
      "source": [
        "!apt-get update > /dev/null 2>&1\n",
        "!apt-get install cmake > /dev/null 2>&1\n",
        "!pip install --upgrade setuptools 2>&1\n",
        "!pip install ez_setup > /dev/null 2>&1\n",
        "!pip install gym[atari] > /dev/null 2>&1\n",
        "!pip install gym[box2d] > /dev/null 2>&1"
      ],
      "execution_count": 1,
      "outputs": [
        {
          "output_type": "stream",
          "text": [
            "Collecting setuptools\n",
            "\u001b[?25l  Downloading https://files.pythonhosted.org/packages/3d/72/1c1498c1e908e0562b1e1cd30012580baa7d33b5b0ffdbeb5fde2462cc71/setuptools-45.2.0-py3-none-any.whl (584kB)\n",
            "\r\u001b[K     |▋                               | 10kB 25.3MB/s eta 0:00:01\r\u001b[K     |█▏                              | 20kB 30.3MB/s eta 0:00:01\r\u001b[K     |█▊                              | 30kB 34.7MB/s eta 0:00:01\r\u001b[K     |██▎                             | 40kB 38.9MB/s eta 0:00:01\r\u001b[K     |██▉                             | 51kB 42.0MB/s eta 0:00:01\r\u001b[K     |███▍                            | 61kB 43.7MB/s eta 0:00:01\r\u001b[K     |████                            | 71kB 44.1MB/s eta 0:00:01\r\u001b[K     |████▌                           | 81kB 42.6MB/s eta 0:00:01\r\u001b[K     |█████                           | 92kB 43.8MB/s eta 0:00:01\r\u001b[K     |█████▋                          | 102kB 45.9MB/s eta 0:00:01\r\u001b[K     |██████▏                         | 112kB 45.9MB/s eta 0:00:01\r\u001b[K     |██████▊                         | 122kB 45.9MB/s eta 0:00:01\r\u001b[K     |███████▎                        | 133kB 45.9MB/s eta 0:00:01\r\u001b[K     |███████▉                        | 143kB 45.9MB/s eta 0:00:01\r\u001b[K     |████████▍                       | 153kB 45.9MB/s eta 0:00:01\r\u001b[K     |█████████                       | 163kB 45.9MB/s eta 0:00:01\r\u001b[K     |█████████▌                      | 174kB 45.9MB/s eta 0:00:01\r\u001b[K     |██████████                      | 184kB 45.9MB/s eta 0:00:01\r\u001b[K     |██████████▋                     | 194kB 45.9MB/s eta 0:00:01\r\u001b[K     |███████████▏                    | 204kB 45.9MB/s eta 0:00:01\r\u001b[K     |███████████▉                    | 215kB 45.9MB/s eta 0:00:01\r\u001b[K     |████████████▍                   | 225kB 45.9MB/s eta 0:00:01\r\u001b[K     |█████████████                   | 235kB 45.9MB/s eta 0:00:01\r\u001b[K     |█████████████▌                  | 245kB 45.9MB/s eta 0:00:01\r\u001b[K     |██████████████                  | 256kB 45.9MB/s eta 0:00:01\r\u001b[K     |██████████████▋                 | 266kB 45.9MB/s eta 0:00:01\r\u001b[K     |███████████████▏                | 276kB 45.9MB/s eta 0:00:01\r\u001b[K     |███████████████▊                | 286kB 45.9MB/s eta 0:00:01\r\u001b[K     |████████████████▎               | 296kB 45.9MB/s eta 0:00:01\r\u001b[K     |████████████████▉               | 307kB 45.9MB/s eta 0:00:01\r\u001b[K     |█████████████████▍              | 317kB 45.9MB/s eta 0:00:01\r\u001b[K     |██████████████████              | 327kB 45.9MB/s eta 0:00:01\r\u001b[K     |██████████████████▌             | 337kB 45.9MB/s eta 0:00:01\r\u001b[K     |███████████████████             | 348kB 45.9MB/s eta 0:00:01\r\u001b[K     |███████████████████▋            | 358kB 45.9MB/s eta 0:00:01\r\u001b[K     |████████████████████▏           | 368kB 45.9MB/s eta 0:00:01\r\u001b[K     |████████████████████▊           | 378kB 45.9MB/s eta 0:00:01\r\u001b[K     |█████████████████████▎          | 389kB 45.9MB/s eta 0:00:01\r\u001b[K     |█████████████████████▉          | 399kB 45.9MB/s eta 0:00:01\r\u001b[K     |██████████████████████▍         | 409kB 45.9MB/s eta 0:00:01\r\u001b[K     |███████████████████████         | 419kB 45.9MB/s eta 0:00:01\r\u001b[K     |███████████████████████▋        | 430kB 45.9MB/s eta 0:00:01\r\u001b[K     |████████████████████████▏       | 440kB 45.9MB/s eta 0:00:01\r\u001b[K     |████████████████████████▊       | 450kB 45.9MB/s eta 0:00:01\r\u001b[K     |█████████████████████████▎      | 460kB 45.9MB/s eta 0:00:01\r\u001b[K     |█████████████████████████▉      | 471kB 45.9MB/s eta 0:00:01\r\u001b[K     |██████████████████████████▍     | 481kB 45.9MB/s eta 0:00:01\r\u001b[K     |███████████████████████████     | 491kB 45.9MB/s eta 0:00:01\r\u001b[K     |███████████████████████████▌    | 501kB 45.9MB/s eta 0:00:01\r\u001b[K     |████████████████████████████    | 512kB 45.9MB/s eta 0:00:01\r\u001b[K     |████████████████████████████▋   | 522kB 45.9MB/s eta 0:00:01\r\u001b[K     |█████████████████████████████▏  | 532kB 45.9MB/s eta 0:00:01\r\u001b[K     |█████████████████████████████▊  | 542kB 45.9MB/s eta 0:00:01\r\u001b[K     |██████████████████████████████▎ | 552kB 45.9MB/s eta 0:00:01\r\u001b[K     |██████████████████████████████▉ | 563kB 45.9MB/s eta 0:00:01\r\u001b[K     |███████████████████████████████▍| 573kB 45.9MB/s eta 0:00:01\r\u001b[K     |████████████████████████████████| 583kB 45.9MB/s eta 0:00:01\r\u001b[K     |████████████████████████████████| 593kB 45.9MB/s \n",
            "\u001b[31mERROR: datascience 0.10.6 has requirement folium==0.2.1, but you'll have folium 0.8.3 which is incompatible.\u001b[0m\n",
            "\u001b[?25hInstalling collected packages: setuptools\n",
            "  Found existing installation: setuptools 45.1.0\n",
            "    Uninstalling setuptools-45.1.0:\n",
            "      Successfully uninstalled setuptools-45.1.0\n",
            "Successfully installed setuptools-45.2.0\n"
          ],
          "name": "stdout"
        },
        {
          "output_type": "display_data",
          "data": {
            "application/vnd.colab-display-data+json": {
              "pip_warning": {
                "packages": [
                  "pkg_resources"
                ]
              }
            }
          },
          "metadata": {
            "tags": []
          }
        }
      ]
    },
    {
      "cell_type": "code",
      "metadata": {
        "id": "pdb2JwZy4jGj",
        "colab_type": "code",
        "outputId": "c5f29768-a04a-42c3-f667-58576ae16ca4",
        "colab": {
          "base_uri": "https://localhost:8080/",
          "height": 34
        }
      },
      "source": [
        "import gym\n",
        "from gym import logger as gymlogger\n",
        "from gym.wrappers import Monitor\n",
        "gymlogger.set_level(40) #error only\n",
        "%tensorflow_version 2.x\n",
        "import tensorflow as tf\n",
        "import numpy as np\n",
        "import random\n",
        "import time\n",
        "from datetime import timedelta\n",
        "import matplotlib\n",
        "import matplotlib.pyplot as plt\n",
        "%matplotlib inline\n",
        "import glob\n",
        "import io\n",
        "import base64\n",
        "from IPython.display import HTML\n",
        "\n",
        "from collections import deque\n",
        "\n",
        "from IPython import display as ipythondisplay\n",
        "np.random.seed(0)\n",
        "random.seed(0)"
      ],
      "execution_count": 3,
      "outputs": [
        {
          "output_type": "stream",
          "text": [
            "TensorFlow 2.x selected.\n"
          ],
          "name": "stdout"
        }
      ]
    },
    {
      "cell_type": "code",
      "metadata": {
        "id": "nQEtc28G4niA",
        "colab_type": "code",
        "outputId": "02acf47d-3830-498d-9046-2b2e1f27269e",
        "colab": {
          "base_uri": "https://localhost:8080/",
          "height": 70
        }
      },
      "source": [
        "from pyvirtualdisplay import Display\n",
        "display = Display(visible=0, size=(1400, 900))\n",
        "display.start()"
      ],
      "execution_count": 4,
      "outputs": [
        {
          "output_type": "stream",
          "text": [
            "xdpyinfo was not found, X start can not be checked! Please install xdpyinfo!\n"
          ],
          "name": "stderr"
        },
        {
          "output_type": "execute_result",
          "data": {
            "text/plain": [
              "<Display cmd_param=['Xvfb', '-br', '-nolisten', 'tcp', '-screen', '0', '1400x900x24', ':1001'] cmd=['Xvfb', '-br', '-nolisten', 'tcp', '-screen', '0', '1400x900x24', ':1001'] oserror=None return_code=None stdout=\"None\" stderr=\"None\" timeout_happened=False>"
            ]
          },
          "metadata": {
            "tags": []
          },
          "execution_count": 4
        }
      ]
    },
    {
      "cell_type": "code",
      "metadata": {
        "id": "G9UWeToN4r7D",
        "colab_type": "code",
        "colab": {}
      },
      "source": [
        "\"\"\"\n",
        "Utility functions to enable video recording of gym environment and displaying it\n",
        "To enable video, just do \"env = wrap_env(env)\"\"\n",
        "\"\"\"\n",
        "\n",
        "def show_video():\n",
        "  mp4list = glob.glob('video/*.mp4')\n",
        "  if len(mp4list) > 0:\n",
        "    mp4 = mp4list[0]\n",
        "    video = io.open(mp4, 'r+b').read()\n",
        "    encoded = base64.b64encode(video)\n",
        "    ipythondisplay.display(HTML(data='''<video alt=\"test\" autoplay \n",
        "                loop controls style=\"height: 400px;\">\n",
        "                <source src=\"data:video/mp4;base64,{0}\" type=\"video/mp4\" />\n",
        "             </video>'''.format(encoded.decode('ascii'))))\n",
        "  else: \n",
        "    print(\"Could not find video\")\n",
        "    \n",
        "\n",
        "def wrap_env(env):\n",
        "  env = Monitor(env, './video', force=True)\n",
        "  return env"
      ],
      "execution_count": 0,
      "outputs": []
    },
    {
      "cell_type": "markdown",
      "metadata": {
        "id": "W3BGbWOu179M",
        "colab_type": "text"
      },
      "source": [
        "# CartPole v0"
      ]
    },
    {
      "cell_type": "markdown",
      "metadata": {
        "id": "m92qLjtaZgiT",
        "colab_type": "text"
      },
      "source": [
        "### Policy Class\n",
        "\n",
        "The policy that decides which action to take given an state. In this case, it's the $\\epsilon$-greedy Strategy."
      ]
    },
    {
      "cell_type": "code",
      "metadata": {
        "id": "7nml8qxuYjF4",
        "colab_type": "code",
        "colab": {}
      },
      "source": [
        "class Policy:\n",
        "  def __init__(self, max_eps, min_eps, eps_decay_rate):\n",
        "    self.max_eps = max_eps\n",
        "    self.min_eps = min_eps\n",
        "    self.eps_decay_rate = eps_decay_rate\n",
        "\n",
        "  def get_eps(self, current_step):\n",
        "    return self.min_eps + (self.max_eps - self.min_eps) * np.exp(-1. * current_step * self.eps_decay_rate)"
      ],
      "execution_count": 0,
      "outputs": []
    },
    {
      "cell_type": "markdown",
      "metadata": {
        "id": "cU1plUxqanHV",
        "colab_type": "text"
      },
      "source": [
        "### Replay Memory\n",
        "\n",
        "The class to hold the buffer memory for training."
      ]
    },
    {
      "cell_type": "code",
      "metadata": {
        "id": "Cc_PUVTtbbsO",
        "colab_type": "code",
        "colab": {}
      },
      "source": [
        "class ReplayMemory:\n",
        "  def __init__(self, max_mem, batch_size):\n",
        "    self.max_mem = max_mem\n",
        "    self.batch_size = batch_size\n",
        "    self.mem = deque(maxlen=self.max_mem)\n",
        "\n",
        "  def push(self, state, action, reward, next_state, done):\n",
        "    self.mem.append((state, action, reward, next_state, (not done)))\n",
        "  \n",
        "  def can_sample(self):\n",
        "    return len(self.mem) >= self.batch_size \n",
        "\n",
        "  def sample(self, num_actions):\n",
        "    minibatch = np.array(random.sample(self.mem, self.batch_size))\n",
        "    state = np.array(list(minibatch[:, 0]))\n",
        "    action = np.array(list(minibatch[:, 1]))\n",
        "    action = tf.keras.utils.to_categorical(action, num_classes=num_actions)\n",
        "    reward = np.array(list(minibatch[:, 2])).reshape(-1, 1)\n",
        "    next_state = np.array(list(minibatch[:, 3]))\n",
        "    done = np.array(list(minibatch[:, 4])).astype(float).reshape(-1, 1)\n",
        "\n",
        "    reward = reward * action\n",
        "    done = done * action\n",
        "\n",
        "    return state, reward, next_state, done"
      ],
      "execution_count": 0,
      "outputs": []
    },
    {
      "cell_type": "markdown",
      "metadata": {
        "id": "Uj5Qr8OHa3-Y",
        "colab_type": "text"
      },
      "source": [
        "### Agent\n",
        "The agent responsible for the interaction with the environment. This class also contains the 2 models (neural networks i.e. q net and target)."
      ]
    },
    {
      "cell_type": "code",
      "metadata": {
        "id": "ujU9UQmrOVEM",
        "colab_type": "code",
        "colab": {}
      },
      "source": [
        "class Agent:\n",
        "  def __init__(self, input_shape, output_shape):\n",
        "    self.q_model = self._build_model('Q Model', input_shape, output_shape)\n",
        "    self.target_q_model = self._build_model('Target Q Model', input_shape, output_shape)\n",
        "    self.current_step = 0\n",
        "\n",
        "  def _build_model(self, name, input_shape, output_share):\n",
        "    return tf.keras.Sequential([\n",
        "      tf.keras.layers.Dense(24, input_shape=input_shape, activation=tf.nn.relu),\n",
        "      tf.keras.layers.Dense(32, activation=tf.nn.relu),\n",
        "      tf.keras.layers.Dense(output_share)                               \n",
        "    ])\n",
        "\n",
        "  def select_action(self, env, policy, state):\n",
        "    self.current_step += 1\n",
        "\n",
        "    if policy.get_eps(self.current_step) > random.random():\n",
        "      return env.action_space.sample()\n",
        "    else:\n",
        "      return np.argmax(self.q_model(state.reshape(1, -1)))\n",
        "    # action_vals = self.q_model(state.reshape(1, -1))[0]\n",
        "    # action_vals -= (np.max(action_vals) / self.tau)\n",
        "    # action_probs = tf.nn.softmax(action_vals).numpy().astype(np.float32)\n",
        "    # return np.random.choice(env.action_space.n, p=action_probs)\n",
        "\n",
        "  def save(self, fname):\n",
        "    self.q_model.save(f'{fname}-q-model.h5')\n",
        "    self.q_model.save(f'{fname}-q-model-weights.h5')"
      ],
      "execution_count": 0,
      "outputs": []
    },
    {
      "cell_type": "code",
      "metadata": {
        "id": "IeUl5l_G2pVe",
        "colab_type": "code",
        "colab": {}
      },
      "source": [
        "def count():\n",
        "  num = 0\n",
        "  while True:\n",
        "    num += 1\n",
        "    yield num"
      ],
      "execution_count": 0,
      "outputs": []
    },
    {
      "cell_type": "markdown",
      "metadata": {
        "id": "rOS2ULMKbYAW",
        "colab_type": "text"
      },
      "source": [
        "### Hyperparameters\n",
        "Set the hyperparameters for the training."
      ]
    },
    {
      "cell_type": "code",
      "metadata": {
        "id": "UOaF8hQ8bEV8",
        "colab_type": "code",
        "colab": {}
      },
      "source": [
        "ENV_NAME = 'CartPole-v0'\n",
        "\n",
        "REPLAY_MEM_SIZE = 100000\n",
        "BATCH_SIZE = 512\n",
        "\n",
        "NUM_EPISODES = 500\n",
        "TARGET_UPDATE = 10\n",
        "\n",
        "LEARNING_RATE = 1e-3\n",
        "GAMMA = 0.999\n",
        "\n",
        "MAX_EPS = 1\n",
        "MIN_EPS = 1e-2\n",
        "EPS_DECAY_RATE = 1e-3"
      ],
      "execution_count": 0,
      "outputs": []
    },
    {
      "cell_type": "code",
      "metadata": {
        "id": "OWrnglJRczTP",
        "colab_type": "code",
        "colab": {}
      },
      "source": [
        "env = gym.make(ENV_NAME)\n",
        "env.seed(0)\n",
        "\n",
        "policy = Policy(MAX_EPS, MIN_EPS, EPS_DECAY_RATE)\n",
        "replay_mem = ReplayMemory(REPLAY_MEM_SIZE, BATCH_SIZE)\n",
        "agent = Agent(env.observation_space.shape, env.action_space.n)\n",
        "\n",
        "tf.keras.backend.set_floatx('float64')"
      ],
      "execution_count": 0,
      "outputs": []
    },
    {
      "cell_type": "markdown",
      "metadata": {
        "id": "kcr9Ddm7cAZ2",
        "colab_type": "text"
      },
      "source": [
        "### Training\n",
        "The main training code."
      ]
    },
    {
      "cell_type": "code",
      "metadata": {
        "id": "bPIZ5cJIMs3q",
        "colab_type": "code",
        "colab": {}
      },
      "source": [
        "optimizer = tf.keras.optimizers.Adam(lr=LEARNING_RATE)\n",
        "loss = tf.keras.losses.MeanSquaredError()\n",
        "agent.q_model.compile(loss=loss, optimizer=optimizer)\n",
        "# running_mean = None\n",
        "# running_mean_steps = None\n",
        "# timesteps = []\n",
        "# mean_steps = []\n",
        "# means = []"
      ],
      "execution_count": 0,
      "outputs": []
    },
    {
      "cell_type": "code",
      "metadata": {
        "id": "Dx1zpLcFzx6K",
        "colab_type": "code",
        "outputId": "59dff6b1-dc5c-4196-83e9-03c28b8400bf",
        "colab": {
          "base_uri": "https://localhost:8080/",
          "height": 50
        }
      },
      "source": [
        "eta = 0\n",
        "start = time.perf_counter()\n",
        "\n",
        "for episode in range(1, NUM_EPISODES + 1):\n",
        "  state = env.reset()\n",
        "  done = False\n",
        "  ep_reward = 0\n",
        "\n",
        "  for timestep in count():\n",
        "    action = agent.select_action(env, policy, state)\n",
        "    next_state, reward, done, info = env.step(action)\n",
        "    \n",
        "    if done:\n",
        "      if timestep >= 195: reward = 1000\n",
        "      elif timestep > 170: reward = 50\n",
        "      else: reward = -500\n",
        "    else: reward = 20\n",
        "\n",
        "    replay_mem.push(state, action, reward, next_state, done)\n",
        "    state = next_state\n",
        "    ep_reward += reward\n",
        "\n",
        "    if replay_mem.can_sample():\n",
        "      _state, _reward, _next_state, _done = replay_mem.sample(env.action_space.n)\n",
        "      _q_next = agent.target_q_model(_next_state)\n",
        "      target = _reward  + GAMMA * _done * np.max(_q_next, axis=1).reshape(-1, 1)\n",
        "      agent.q_model.fit(_state, target, epochs=1, verbose=0)\n",
        "    \n",
        "    if done:\n",
        "      timesteps.append(timestep)\n",
        "      break\n",
        "\n",
        "  running_mean_steps = timesteps[-1] if running_mean_steps is None else running_mean_steps * 0.99 + timesteps[-1] * 0.01\n",
        "  mean_steps.append(running_mean_steps)\n",
        "\n",
        "  running_mean = ep_reward if running_mean is None else running_mean * 0.99 + ep_reward * 0.01\n",
        "  means.append(running_mean)\n",
        "\n",
        "  if episode % TARGET_UPDATE == 0:\n",
        "    agent.target_q_model.set_weights(agent.q_model.get_weights())\n",
        "\n",
        "  time_elapsed = time.perf_counter() - start\n",
        "  eta = int((NUM_EPISODES - episode) * time_elapsed / episode)\n",
        "\n",
        "  print(f'\\rETA: {timedelta(seconds=eta)}  Episode: {episode:3}/{NUM_EPISODES}  Reward: {ep_reward:.2f}\\tTime Step: {timesteps[-1]}  Mean: {means[-1]:.2f}  Mean Steps: {mean_steps[-1]:.2f}', end='')\n",
        "print(f'\\nTraining Time: {timedelta(seconds=int(time.perf_counter() - start))}')"
      ],
      "execution_count": 47,
      "outputs": [
        {
          "output_type": "stream",
          "text": [
            "ETA: 0:00:00  Episode: 500/500  Reward: 2060.00\tTime Step: 129  Mean: 2517.08  Mean Steps: 143.65\n",
            "Training Time: 1:03:12\n"
          ],
          "name": "stdout"
        }
      ]
    },
    {
      "cell_type": "markdown",
      "metadata": {
        "id": "2S1-oQLLcMb3",
        "colab_type": "text"
      },
      "source": [
        "### Visualize \n",
        "Plot the Number of Steps before Termination and Running Mean of each episode during the training."
      ]
    },
    {
      "cell_type": "code",
      "metadata": {
        "id": "zTNEmubDg1kF",
        "colab_type": "code",
        "colab": {
          "base_uri": "https://localhost:8080/",
          "height": 295
        },
        "outputId": "c86e0332-251d-4633-cbd5-a93914dd11f8"
      },
      "source": [
        "plt.plot(list(range(1, len(timesteps) + 1)), timesteps, label='Time Steps')\n",
        "plt.plot(list(range(1, len(mean_steps) + 1)), mean_steps, label='Mean Time Steps')\n",
        "plt.title('Time Steps beofre Termination')\n",
        "plt.xlabel('Number of episodes')\n",
        "plt.ylabel('Number of steps taken before terminaition')\n",
        "plt.legend()\n",
        "plt.show()"
      ],
      "execution_count": 48,
      "outputs": [
        {
          "output_type": "display_data",
          "data": {
            "image/png": "[encoded data removed]",
            "text/plain": [
              "<Figure size 432x288 with 1 Axes>"
            ]
          },
          "metadata": {
            "tags": []
          }
        }
      ]
    },
    {
      "cell_type": "code",
      "metadata": {
        "id": "a8GlDPQgls6r",
        "colab_type": "code",
        "outputId": "636cb25b-fab3-451b-b549-ee784c094b9b",
        "colab": {
          "base_uri": "https://localhost:8080/",
          "height": 295
        }
      },
      "source": [
        "plt.plot(list(range(1, len(means) + 1)), means)\n",
        "plt.title('Running Means over 100 episodes over the Training Period')\n",
        "plt.xlabel('Number of episodes')\n",
        "plt.ylabel('Running Means over 100 Episodes')\n",
        "plt.show()"
      ],
      "execution_count": 49,
      "outputs": [
        {
          "output_type": "display_data",
          "data": {
            "image/png": "[encoded data removed]",
            "text/plain": [
              "<Figure size 432x288 with 1 Axes>"
            ]
          },
          "metadata": {
            "tags": []
          }
        }
      ]
    },
    {
      "cell_type": "markdown",
      "metadata": {
        "id": "J2EuLZMBcht6",
        "colab_type": "text"
      },
      "source": [
        "### Testing\n",
        "Testing the performance(Average Reward over 100 Steps)."
      ]
    },
    {
      "cell_type": "code",
      "metadata": {
        "id": "kn3fuyPfGL9e",
        "colab_type": "code",
        "colab": {}
      },
      "source": [
        "agent.save('cartpole-v0')"
      ],
      "execution_count": 0,
      "outputs": []
    },
    {
      "cell_type": "code",
      "metadata": {
        "id": "VJL8ISsPoGVs",
        "colab_type": "code",
        "colab": {
          "base_uri": "https://localhost:8080/",
          "height": 34
        },
        "outputId": "0189fa2b-41cf-4774-8345-bdbb15bd609d"
      },
      "source": [
        "agent.current_step"
      ],
      "execution_count": 51,
      "outputs": [
        {
          "output_type": "execute_result",
          "data": {
            "text/plain": [
              "131025"
            ]
          },
          "metadata": {
            "tags": []
          },
          "execution_count": 51
        }
      ]
    }
  ]
}